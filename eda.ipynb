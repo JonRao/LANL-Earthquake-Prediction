{
 "cells": [
  {
   "cell_type": "code",
   "execution_count": 20,
   "metadata": {},
   "outputs": [
    {
     "name": "stdout",
     "output_type": "stream",
     "text": [
      "The autoreload extension is already loaded. To reload it, use:\n",
      "  %reload_ext autoreload\n"
     ]
    }
   ],
   "source": [
    "import pandas as pd\n",
    "import numpy as np\n",
    "import matplotlib.pyplot as plt\n",
    "from sklearn.preprocessing import StandardScaler\n",
    "\n",
    "import pickle\n",
    "import lightgbm as lgb\n",
    "\n",
    "from tqdm import tqdm_notebook\n",
    "\n",
    "import os\n",
    "import time\n",
    "from sklearn.model_selection import StratifiedKFold, KFold, RepeatedKFold\n",
    "from sklearn.preprocessing import StandardScaler\n",
    "from sklearn.metrics import mean_absolute_error\n",
    "\n",
    "import librosa  # MFCC feature\n",
    "from multiprocessing import Pool\n",
    "\n",
    "%matplotlib inline\n",
    "%load_ext autoreload\n",
    "%autoreload 2"
   ]
  },
  {
   "cell_type": "code",
   "execution_count": 23,
   "metadata": {},
   "outputs": [
    {
     "data": {
      "text/plain": [
       "[]"
      ]
     },
     "execution_count": 23,
     "metadata": {},
     "output_type": "execute_result"
    }
   ],
   "source": [
    "os.listdir('./data/features/')"
   ]
  },
  {
   "cell_type": "code",
   "execution_count": 24,
   "metadata": {},
   "outputs": [
    {
     "data": {
      "text/plain": [
       "'11_asdf'"
      ]
     },
     "execution_count": 24,
     "metadata": {},
     "output_type": "execute_result"
    }
   ],
   "source": [
    "feature_group = ['1_asdf', '2_sdf', '11_asdf']\n",
    "max(feature_group, key=lambda x: int(x.split('_', 1)[0]))"
   ]
  },
  {
   "cell_type": "code",
   "execution_count": 14,
   "metadata": {},
   "outputs": [
    {
     "data": {
      "text/html": [
       "<div>\n",
       "<style scoped>\n",
       "    .dataframe tbody tr th:only-of-type {\n",
       "        vertical-align: middle;\n",
       "    }\n",
       "\n",
       "    .dataframe tbody tr th {\n",
       "        vertical-align: top;\n",
       "    }\n",
       "\n",
       "    .dataframe thead th {\n",
       "        text-align: right;\n",
       "    }\n",
       "</style>\n",
       "<table border=\"1\" class=\"dataframe\">\n",
       "  <thead>\n",
       "    <tr style=\"text-align: right;\">\n",
       "      <th></th>\n",
       "      <th>0</th>\n",
       "      <th>1</th>\n",
       "      <th>2</th>\n",
       "    </tr>\n",
       "  </thead>\n",
       "  <tbody>\n",
       "    <tr>\n",
       "      <th>0</th>\n",
       "      <td>1.709250</td>\n",
       "      <td>-0.554247</td>\n",
       "      <td>1.025430</td>\n",
       "    </tr>\n",
       "    <tr>\n",
       "      <th>1</th>\n",
       "      <td>1.254494</td>\n",
       "      <td>-0.604533</td>\n",
       "      <td>-2.889959</td>\n",
       "    </tr>\n",
       "    <tr>\n",
       "      <th>2</th>\n",
       "      <td>-0.690087</td>\n",
       "      <td>-1.744467</td>\n",
       "      <td>0.334423</td>\n",
       "    </tr>\n",
       "  </tbody>\n",
       "</table>\n",
       "</div>"
      ],
      "text/plain": [
       "          0         1         2\n",
       "0  1.709250 -0.554247  1.025430\n",
       "1  1.254494 -0.604533 -2.889959\n",
       "2 -0.690087 -1.744467  0.334423"
      ]
     },
     "execution_count": 14,
     "metadata": {},
     "output_type": "execute_result"
    }
   ],
   "source": [
    "a = pd.DataFrame(np.random.randn(3,3))\n",
    "b = pd.DataFrame(np.random.randn(3,5))\n",
    "b.columns\n",
    "a"
   ]
  },
  {
   "cell_type": "code",
   "execution_count": 32,
   "metadata": {},
   "outputs": [
    {
     "data": {
      "text/plain": [
       "6154.038031297842"
      ]
     },
     "execution_count": 32,
     "metadata": {},
     "output_type": "execute_result"
    }
   ],
   "source": [
    "librosa.feature.spectral_rolloff(np.random.randn(20))\n",
    "librosa.feature.spectral_centroid(np.random.randn(20))[0][0]"
   ]
  },
  {
   "cell_type": "code",
   "execution_count": 50,
   "metadata": {},
   "outputs": [],
   "source": [
    "def feature_sta_lta_ratio(x, length_sta, length_lta):\n",
    "    \"\"\" short-term change over long-term change ratio (not rolling mean)\"\"\"\n",
    "    x = np.cumsum(x ** 2)\n",
    "    # Convert to float\n",
    "    x = np.require(x, dtype=np.float)\n",
    "\n",
    "    sta = x\n",
    "    # Copy for LTA\n",
    "    lta = sta.copy()\n",
    "\n",
    "    # Compute the STA and the LTA\n",
    "    sta[length_sta:] = sta[length_sta:] - sta[:-length_sta]\n",
    "    sta /= length_sta\n",
    "    lta[length_lta:] = lta[length_lta:] - lta[:-length_lta]\n",
    "    lta /= length_lta\n",
    "\n",
    "    # Pad zeros\n",
    "    sta[:length_lta - 1] = 0\n",
    "\n",
    "    # Avoid division by zero by setting zero values to tiny float\n",
    "    dtiny = np.finfo(0.0).tiny\n",
    "    idx = lta < dtiny\n",
    "    lta[idx] = dtiny\n",
    "\n",
    "    return sta / lta"
   ]
  },
  {
   "cell_type": "code",
   "execution_count": 15,
   "metadata": {},
   "outputs": [],
   "source": [
    "df = pickle.load(open('./data/train.p', 'rb'))"
   ]
  },
  {
   "cell_type": "code",
   "execution_count": 22,
   "metadata": {},
   "outputs": [
    {
     "data": {
      "text/plain": [
       "array([-12,   0,  -3, ...,  -1,  -4, -10], dtype=int16)"
      ]
     },
     "execution_count": 22,
     "metadata": {},
     "output_type": "execute_result"
    }
   ],
   "source": [
    "x[length_sta:]"
   ]
  },
  {
   "cell_type": "code",
   "execution_count": 52,
   "metadata": {},
   "outputs": [
    {
     "data": {
      "text/plain": [
       "0.9418946516536265"
      ]
     },
     "execution_count": 52,
     "metadata": {},
     "output_type": "execute_result"
    }
   ],
   "source": [
    "x = df.iloc[:150_000]['acoustic_data'].values\n",
    "length_sta = 500\n",
    "length_lta = 10000\n",
    "np.mean(feature_sta_lta_ratio(x, length_sta, length_lta))\n",
    "# x = np.require(x, dtype=np.float)\n",
    "# x = np.cumsum(x ** 2)\n"
   ]
  },
  {
   "cell_type": "code",
   "execution_count": 28,
   "metadata": {},
   "outputs": [
    {
     "data": {
      "text/plain": [
       "array([12.,  6.,  8., ...,  1., 11., -2.])"
      ]
     },
     "execution_count": 28,
     "metadata": {},
     "output_type": "execute_result"
    }
   ],
   "source": [
    "x"
   ]
  },
  {
   "cell_type": "code",
   "execution_count": 49,
   "metadata": {},
   "outputs": [
    {
     "data": {
      "text/plain": [
       "0.9386300179555921"
      ]
     },
     "execution_count": 49,
     "metadata": {},
     "output_type": "execute_result"
    }
   ],
   "source": [
    "np.mean(sta / lta)"
   ]
  },
  {
   "cell_type": "code",
   "execution_count": 46,
   "metadata": {},
   "outputs": [
    {
     "data": {
      "text/plain": [
       "(0.0144, 3239.2101, 0.0, 2868.516)"
      ]
     },
     "execution_count": 46,
     "metadata": {},
     "output_type": "execute_result"
    }
   ],
   "source": [
    "np.min(lta), np.max(lta), np.min(sta), np.max(sta)"
   ]
  },
  {
   "cell_type": "code",
   "execution_count": 45,
   "metadata": {},
   "outputs": [],
   "source": [
    "sta = x\n",
    "# Copy for LTA\n",
    "lta = sta.copy()\n",
    "\n",
    "# Compute the STA and the LTA\n",
    "sta[length_sta:] = sta[length_sta:] - sta[:-length_sta]\n",
    "sta /= length_sta\n",
    "lta[length_lta:] = lta[length_lta:] - lta[:-length_lta]\n",
    "lta /= length_lta\n",
    "\n",
    "# Pad zeros\n",
    "sta[:length_lta - 1] = 0\n",
    "\n",
    "# Avoid division by zero by setting zero values to tiny float\n",
    "dtiny = np.finfo(0.0).tiny\n",
    "idx = lta < dtiny\n",
    "lta[idx] = dtiny"
   ]
  },
  {
   "cell_type": "code",
   "execution_count": 35,
   "metadata": {},
   "outputs": [],
   "source": [
    "# train = pd.read_cv('./train.csv', dtype={'acoustic_data': np.int16, 'time_to_failure': np.float32})\n",
    "X_tr, y_tr = pickle.load(open('./data/transform.p', 'rb'))\n",
    "# X_tr['var_larger_than_std_dev'] = X_tr['var_larger_than_std_dev'].astype(bool)\n",
    "# tmp = X_tr, y_tr\n",
    "# pickle.dump(tmp, open('./data/transform.p', 'wb'))"
   ]
  },
  {
   "cell_type": "code",
   "execution_count": 39,
   "metadata": {},
   "outputs": [],
   "source": [
    "X_test = pickle.load(open('./data/test_transform.p', 'rb'))"
   ]
  },
  {
   "cell_type": "code",
   "execution_count": 40,
   "metadata": {},
   "outputs": [
    {
     "data": {
      "text/html": [
       "<div>\n",
       "<style scoped>\n",
       "    .dataframe tbody tr th:only-of-type {\n",
       "        vertical-align: middle;\n",
       "    }\n",
       "\n",
       "    .dataframe tbody tr th {\n",
       "        vertical-align: top;\n",
       "    }\n",
       "\n",
       "    .dataframe thead th {\n",
       "        text-align: right;\n",
       "    }\n",
       "</style>\n",
       "<table border=\"1\" class=\"dataframe\">\n",
       "  <thead>\n",
       "    <tr style=\"text-align: right;\">\n",
       "      <th></th>\n",
       "      <th>0</th>\n",
       "      <th>1</th>\n",
       "      <th>2</th>\n",
       "      <th>3</th>\n",
       "      <th>spectral_bandwidth</th>\n",
       "      <th>spectral_centroid</th>\n",
       "      <th>spectral_contrast</th>\n",
       "      <th>spectral_rolloff</th>\n",
       "    </tr>\n",
       "  </thead>\n",
       "  <tbody>\n",
       "    <tr>\n",
       "      <th>seg_ea9d37</th>\n",
       "      <td>spectral_rolloff</td>\n",
       "      <td>spectral_centroid</td>\n",
       "      <td>spectral_contrast</td>\n",
       "      <td>spectral_bandwidth</td>\n",
       "      <td>3137.564094</td>\n",
       "      <td>3676.435569</td>\n",
       "      <td>36.634005</td>\n",
       "      <td>7504.321289</td>\n",
       "    </tr>\n",
       "    <tr>\n",
       "      <th>seg_bdae02</th>\n",
       "      <td>spectral_rolloff</td>\n",
       "      <td>spectral_centroid</td>\n",
       "      <td>spectral_contrast</td>\n",
       "      <td>spectral_bandwidth</td>\n",
       "      <td>3181.067985</td>\n",
       "      <td>4304.909828</td>\n",
       "      <td>25.140853</td>\n",
       "      <td>8247.216797</td>\n",
       "    </tr>\n",
       "    <tr>\n",
       "      <th>seg_211486</th>\n",
       "      <td>spectral_rolloff</td>\n",
       "      <td>spectral_centroid</td>\n",
       "      <td>spectral_contrast</td>\n",
       "      <td>spectral_bandwidth</td>\n",
       "      <td>3208.591995</td>\n",
       "      <td>4282.286477</td>\n",
       "      <td>38.141597</td>\n",
       "      <td>8085.717773</td>\n",
       "    </tr>\n",
       "    <tr>\n",
       "      <th>seg_23f823</th>\n",
       "      <td>spectral_rolloff</td>\n",
       "      <td>spectral_centroid</td>\n",
       "      <td>spectral_contrast</td>\n",
       "      <td>spectral_bandwidth</td>\n",
       "      <td>3118.661948</td>\n",
       "      <td>3949.139196</td>\n",
       "      <td>35.722006</td>\n",
       "      <td>7859.619141</td>\n",
       "    </tr>\n",
       "    <tr>\n",
       "      <th>seg_c5fc87</th>\n",
       "      <td>spectral_rolloff</td>\n",
       "      <td>spectral_centroid</td>\n",
       "      <td>spectral_contrast</td>\n",
       "      <td>spectral_bandwidth</td>\n",
       "      <td>3195.676318</td>\n",
       "      <td>4197.955073</td>\n",
       "      <td>26.141811</td>\n",
       "      <td>8214.916992</td>\n",
       "    </tr>\n",
       "    <tr>\n",
       "      <th>seg_72b68c</th>\n",
       "      <td>spectral_rolloff</td>\n",
       "      <td>spectral_centroid</td>\n",
       "      <td>spectral_contrast</td>\n",
       "      <td>spectral_bandwidth</td>\n",
       "      <td>3128.508151</td>\n",
       "      <td>4153.035838</td>\n",
       "      <td>43.694050</td>\n",
       "      <td>8021.118164</td>\n",
       "    </tr>\n",
       "    <tr>\n",
       "      <th>seg_6c34c2</th>\n",
       "      <td>spectral_rolloff</td>\n",
       "      <td>spectral_centroid</td>\n",
       "      <td>spectral_contrast</td>\n",
       "      <td>spectral_bandwidth</td>\n",
       "      <td>3071.370389</td>\n",
       "      <td>3338.947551</td>\n",
       "      <td>29.504592</td>\n",
       "      <td>7321.289062</td>\n",
       "    </tr>\n",
       "    <tr>\n",
       "      <th>seg_546864</th>\n",
       "      <td>spectral_rolloff</td>\n",
       "      <td>spectral_centroid</td>\n",
       "      <td>spectral_contrast</td>\n",
       "      <td>spectral_bandwidth</td>\n",
       "      <td>2812.174725</td>\n",
       "      <td>2888.350782</td>\n",
       "      <td>34.244812</td>\n",
       "      <td>6427.661133</td>\n",
       "    </tr>\n",
       "    <tr>\n",
       "      <th>seg_7bec10</th>\n",
       "      <td>spectral_rolloff</td>\n",
       "      <td>spectral_centroid</td>\n",
       "      <td>spectral_contrast</td>\n",
       "      <td>spectral_bandwidth</td>\n",
       "      <td>3135.844977</td>\n",
       "      <td>4065.157036</td>\n",
       "      <td>33.519098</td>\n",
       "      <td>7988.818359</td>\n",
       "    </tr>\n",
       "    <tr>\n",
       "      <th>seg_bcfad6</th>\n",
       "      <td>spectral_rolloff</td>\n",
       "      <td>spectral_centroid</td>\n",
       "      <td>spectral_contrast</td>\n",
       "      <td>spectral_bandwidth</td>\n",
       "      <td>3175.044038</td>\n",
       "      <td>3918.312032</td>\n",
       "      <td>31.548215</td>\n",
       "      <td>7988.818359</td>\n",
       "    </tr>\n",
       "    <tr>\n",
       "      <th>seg_be0dfa</th>\n",
       "      <td>spectral_rolloff</td>\n",
       "      <td>spectral_centroid</td>\n",
       "      <td>spectral_contrast</td>\n",
       "      <td>spectral_bandwidth</td>\n",
       "      <td>3191.788504</td>\n",
       "      <td>4202.128976</td>\n",
       "      <td>41.077375</td>\n",
       "      <td>8247.216797</td>\n",
       "    </tr>\n",
       "    <tr>\n",
       "      <th>seg_750d20</th>\n",
       "      <td>spectral_rolloff</td>\n",
       "      <td>spectral_centroid</td>\n",
       "      <td>spectral_contrast</td>\n",
       "      <td>spectral_bandwidth</td>\n",
       "      <td>3117.522598</td>\n",
       "      <td>3536.765977</td>\n",
       "      <td>24.449492</td>\n",
       "      <td>7547.387695</td>\n",
       "    </tr>\n",
       "    <tr>\n",
       "      <th>seg_f229bf</th>\n",
       "      <td>spectral_rolloff</td>\n",
       "      <td>spectral_centroid</td>\n",
       "      <td>spectral_contrast</td>\n",
       "      <td>spectral_bandwidth</td>\n",
       "      <td>3145.657808</td>\n",
       "      <td>4311.323348</td>\n",
       "      <td>31.520418</td>\n",
       "      <td>8247.216797</td>\n",
       "    </tr>\n",
       "    <tr>\n",
       "      <th>seg_ab001b</th>\n",
       "      <td>spectral_rolloff</td>\n",
       "      <td>spectral_centroid</td>\n",
       "      <td>spectral_contrast</td>\n",
       "      <td>spectral_bandwidth</td>\n",
       "      <td>3158.131884</td>\n",
       "      <td>3881.445938</td>\n",
       "      <td>29.904264</td>\n",
       "      <td>7784.252930</td>\n",
       "    </tr>\n",
       "    <tr>\n",
       "      <th>seg_29d497</th>\n",
       "      <td>spectral_rolloff</td>\n",
       "      <td>spectral_centroid</td>\n",
       "      <td>spectral_contrast</td>\n",
       "      <td>spectral_bandwidth</td>\n",
       "      <td>3157.506164</td>\n",
       "      <td>4048.492559</td>\n",
       "      <td>27.465363</td>\n",
       "      <td>7913.452148</td>\n",
       "    </tr>\n",
       "    <tr>\n",
       "      <th>seg_08b136</th>\n",
       "      <td>spectral_rolloff</td>\n",
       "      <td>spectral_centroid</td>\n",
       "      <td>spectral_contrast</td>\n",
       "      <td>spectral_bandwidth</td>\n",
       "      <td>3239.927857</td>\n",
       "      <td>4108.570746</td>\n",
       "      <td>29.612599</td>\n",
       "      <td>8171.850586</td>\n",
       "    </tr>\n",
       "    <tr>\n",
       "      <th>seg_287e60</th>\n",
       "      <td>spectral_rolloff</td>\n",
       "      <td>spectral_centroid</td>\n",
       "      <td>spectral_contrast</td>\n",
       "      <td>spectral_bandwidth</td>\n",
       "      <td>3197.692436</td>\n",
       "      <td>3913.244775</td>\n",
       "      <td>26.006250</td>\n",
       "      <td>7827.319336</td>\n",
       "    </tr>\n",
       "    <tr>\n",
       "      <th>seg_e29670</th>\n",
       "      <td>spectral_rolloff</td>\n",
       "      <td>spectral_centroid</td>\n",
       "      <td>spectral_contrast</td>\n",
       "      <td>spectral_bandwidth</td>\n",
       "      <td>3158.530853</td>\n",
       "      <td>3935.011532</td>\n",
       "      <td>33.517200</td>\n",
       "      <td>8021.118164</td>\n",
       "    </tr>\n",
       "    <tr>\n",
       "      <th>seg_ee4ae5</th>\n",
       "      <td>spectral_rolloff</td>\n",
       "      <td>spectral_centroid</td>\n",
       "      <td>spectral_contrast</td>\n",
       "      <td>spectral_bandwidth</td>\n",
       "      <td>3071.797116</td>\n",
       "      <td>3595.930857</td>\n",
       "      <td>25.114356</td>\n",
       "      <td>7579.687500</td>\n",
       "    </tr>\n",
       "    <tr>\n",
       "      <th>seg_e20d76</th>\n",
       "      <td>spectral_rolloff</td>\n",
       "      <td>spectral_centroid</td>\n",
       "      <td>spectral_contrast</td>\n",
       "      <td>spectral_bandwidth</td>\n",
       "      <td>3155.119831</td>\n",
       "      <td>4017.833232</td>\n",
       "      <td>25.014248</td>\n",
       "      <td>8064.184570</td>\n",
       "    </tr>\n",
       "    <tr>\n",
       "      <th>seg_b197e2</th>\n",
       "      <td>spectral_rolloff</td>\n",
       "      <td>spectral_centroid</td>\n",
       "      <td>spectral_contrast</td>\n",
       "      <td>spectral_bandwidth</td>\n",
       "      <td>3138.584194</td>\n",
       "      <td>3568.695825</td>\n",
       "      <td>29.758564</td>\n",
       "      <td>7536.621094</td>\n",
       "    </tr>\n",
       "    <tr>\n",
       "      <th>seg_850d95</th>\n",
       "      <td>spectral_rolloff</td>\n",
       "      <td>spectral_centroid</td>\n",
       "      <td>spectral_contrast</td>\n",
       "      <td>spectral_bandwidth</td>\n",
       "      <td>2923.466790</td>\n",
       "      <td>3190.318850</td>\n",
       "      <td>47.753194</td>\n",
       "      <td>6869.091797</td>\n",
       "    </tr>\n",
       "    <tr>\n",
       "      <th>seg_eb32bc</th>\n",
       "      <td>spectral_rolloff</td>\n",
       "      <td>spectral_centroid</td>\n",
       "      <td>spectral_contrast</td>\n",
       "      <td>spectral_bandwidth</td>\n",
       "      <td>3021.671628</td>\n",
       "      <td>3484.362669</td>\n",
       "      <td>29.297300</td>\n",
       "      <td>7299.755859</td>\n",
       "    </tr>\n",
       "    <tr>\n",
       "      <th>seg_2ece02</th>\n",
       "      <td>spectral_rolloff</td>\n",
       "      <td>spectral_centroid</td>\n",
       "      <td>spectral_contrast</td>\n",
       "      <td>spectral_bandwidth</td>\n",
       "      <td>3189.235942</td>\n",
       "      <td>3944.171990</td>\n",
       "      <td>20.450305</td>\n",
       "      <td>8031.884766</td>\n",
       "    </tr>\n",
       "    <tr>\n",
       "      <th>seg_69dbad</th>\n",
       "      <td>spectral_rolloff</td>\n",
       "      <td>spectral_centroid</td>\n",
       "      <td>spectral_contrast</td>\n",
       "      <td>spectral_bandwidth</td>\n",
       "      <td>3209.042650</td>\n",
       "      <td>3923.653272</td>\n",
       "      <td>28.525221</td>\n",
       "      <td>8064.184570</td>\n",
       "    </tr>\n",
       "    <tr>\n",
       "      <th>seg_5f7fd9</th>\n",
       "      <td>spectral_rolloff</td>\n",
       "      <td>spectral_centroid</td>\n",
       "      <td>spectral_contrast</td>\n",
       "      <td>spectral_bandwidth</td>\n",
       "      <td>3163.868696</td>\n",
       "      <td>3920.318865</td>\n",
       "      <td>27.414402</td>\n",
       "      <td>7967.285156</td>\n",
       "    </tr>\n",
       "    <tr>\n",
       "      <th>seg_3f2086</th>\n",
       "      <td>spectral_rolloff</td>\n",
       "      <td>spectral_centroid</td>\n",
       "      <td>spectral_contrast</td>\n",
       "      <td>spectral_bandwidth</td>\n",
       "      <td>3260.586511</td>\n",
       "      <td>4189.723994</td>\n",
       "      <td>36.223130</td>\n",
       "      <td>8365.649414</td>\n",
       "    </tr>\n",
       "    <tr>\n",
       "      <th>seg_88b289</th>\n",
       "      <td>spectral_rolloff</td>\n",
       "      <td>spectral_centroid</td>\n",
       "      <td>spectral_contrast</td>\n",
       "      <td>spectral_bandwidth</td>\n",
       "      <td>3132.682052</td>\n",
       "      <td>3804.646316</td>\n",
       "      <td>29.196561</td>\n",
       "      <td>7859.619141</td>\n",
       "    </tr>\n",
       "    <tr>\n",
       "      <th>seg_9d6ff0</th>\n",
       "      <td>spectral_rolloff</td>\n",
       "      <td>spectral_centroid</td>\n",
       "      <td>spectral_contrast</td>\n",
       "      <td>spectral_bandwidth</td>\n",
       "      <td>3033.570141</td>\n",
       "      <td>3264.132273</td>\n",
       "      <td>30.094437</td>\n",
       "      <td>7288.989258</td>\n",
       "    </tr>\n",
       "    <tr>\n",
       "      <th>seg_b36650</th>\n",
       "      <td>spectral_rolloff</td>\n",
       "      <td>spectral_centroid</td>\n",
       "      <td>spectral_contrast</td>\n",
       "      <td>spectral_bandwidth</td>\n",
       "      <td>2647.423924</td>\n",
       "      <td>2456.710635</td>\n",
       "      <td>23.648245</td>\n",
       "      <td>5609.399414</td>\n",
       "    </tr>\n",
       "    <tr>\n",
       "      <th>...</th>\n",
       "      <td>...</td>\n",
       "      <td>...</td>\n",
       "      <td>...</td>\n",
       "      <td>...</td>\n",
       "      <td>...</td>\n",
       "      <td>...</td>\n",
       "      <td>...</td>\n",
       "      <td>...</td>\n",
       "    </tr>\n",
       "    <tr>\n",
       "      <th>seg_9aa6e2</th>\n",
       "      <td>spectral_rolloff</td>\n",
       "      <td>spectral_centroid</td>\n",
       "      <td>spectral_contrast</td>\n",
       "      <td>spectral_bandwidth</td>\n",
       "      <td>3184.673644</td>\n",
       "      <td>3917.582605</td>\n",
       "      <td>47.236750</td>\n",
       "      <td>8074.951172</td>\n",
       "    </tr>\n",
       "    <tr>\n",
       "      <th>seg_dceeca</th>\n",
       "      <td>spectral_rolloff</td>\n",
       "      <td>spectral_centroid</td>\n",
       "      <td>spectral_contrast</td>\n",
       "      <td>spectral_bandwidth</td>\n",
       "      <td>3029.462762</td>\n",
       "      <td>3610.463612</td>\n",
       "      <td>28.030684</td>\n",
       "      <td>7428.955078</td>\n",
       "    </tr>\n",
       "    <tr>\n",
       "      <th>seg_f43730</th>\n",
       "      <td>spectral_rolloff</td>\n",
       "      <td>spectral_centroid</td>\n",
       "      <td>spectral_contrast</td>\n",
       "      <td>spectral_bandwidth</td>\n",
       "      <td>3165.949606</td>\n",
       "      <td>3935.732172</td>\n",
       "      <td>22.305013</td>\n",
       "      <td>7956.518555</td>\n",
       "    </tr>\n",
       "    <tr>\n",
       "      <th>seg_709d08</th>\n",
       "      <td>spectral_rolloff</td>\n",
       "      <td>spectral_centroid</td>\n",
       "      <td>spectral_contrast</td>\n",
       "      <td>spectral_bandwidth</td>\n",
       "      <td>3168.688002</td>\n",
       "      <td>4164.434210</td>\n",
       "      <td>27.196086</td>\n",
       "      <td>8118.017578</td>\n",
       "    </tr>\n",
       "    <tr>\n",
       "      <th>seg_e9a09f</th>\n",
       "      <td>spectral_rolloff</td>\n",
       "      <td>spectral_centroid</td>\n",
       "      <td>spectral_contrast</td>\n",
       "      <td>spectral_bandwidth</td>\n",
       "      <td>3225.542976</td>\n",
       "      <td>4279.261522</td>\n",
       "      <td>34.419157</td>\n",
       "      <td>8376.416016</td>\n",
       "    </tr>\n",
       "    <tr>\n",
       "      <th>seg_98ebaa</th>\n",
       "      <td>spectral_rolloff</td>\n",
       "      <td>spectral_centroid</td>\n",
       "      <td>spectral_contrast</td>\n",
       "      <td>spectral_bandwidth</td>\n",
       "      <td>3176.451379</td>\n",
       "      <td>4013.735840</td>\n",
       "      <td>32.859597</td>\n",
       "      <td>7945.751953</td>\n",
       "    </tr>\n",
       "    <tr>\n",
       "      <th>seg_f6f523</th>\n",
       "      <td>spectral_rolloff</td>\n",
       "      <td>spectral_centroid</td>\n",
       "      <td>spectral_contrast</td>\n",
       "      <td>spectral_bandwidth</td>\n",
       "      <td>3236.421613</td>\n",
       "      <td>4028.082256</td>\n",
       "      <td>38.531839</td>\n",
       "      <td>8128.784180</td>\n",
       "    </tr>\n",
       "    <tr>\n",
       "      <th>seg_74ffde</th>\n",
       "      <td>spectral_rolloff</td>\n",
       "      <td>spectral_centroid</td>\n",
       "      <td>spectral_contrast</td>\n",
       "      <td>spectral_bandwidth</td>\n",
       "      <td>3248.389953</td>\n",
       "      <td>4122.890372</td>\n",
       "      <td>27.767528</td>\n",
       "      <td>8257.983398</td>\n",
       "    </tr>\n",
       "    <tr>\n",
       "      <th>seg_38ad16</th>\n",
       "      <td>spectral_rolloff</td>\n",
       "      <td>spectral_centroid</td>\n",
       "      <td>spectral_contrast</td>\n",
       "      <td>spectral_bandwidth</td>\n",
       "      <td>3148.227235</td>\n",
       "      <td>4045.289048</td>\n",
       "      <td>25.783123</td>\n",
       "      <td>7902.685547</td>\n",
       "    </tr>\n",
       "    <tr>\n",
       "      <th>seg_09ed4e</th>\n",
       "      <td>spectral_rolloff</td>\n",
       "      <td>spectral_centroid</td>\n",
       "      <td>spectral_contrast</td>\n",
       "      <td>spectral_bandwidth</td>\n",
       "      <td>3103.454191</td>\n",
       "      <td>4048.937518</td>\n",
       "      <td>34.736896</td>\n",
       "      <td>7881.152344</td>\n",
       "    </tr>\n",
       "    <tr>\n",
       "      <th>seg_cf74e8</th>\n",
       "      <td>spectral_rolloff</td>\n",
       "      <td>spectral_centroid</td>\n",
       "      <td>spectral_contrast</td>\n",
       "      <td>spectral_bandwidth</td>\n",
       "      <td>3229.223214</td>\n",
       "      <td>4265.651109</td>\n",
       "      <td>34.302369</td>\n",
       "      <td>8279.516602</td>\n",
       "    </tr>\n",
       "    <tr>\n",
       "      <th>seg_07fc6d</th>\n",
       "      <td>spectral_rolloff</td>\n",
       "      <td>spectral_centroid</td>\n",
       "      <td>spectral_contrast</td>\n",
       "      <td>spectral_bandwidth</td>\n",
       "      <td>3294.867076</td>\n",
       "      <td>4176.669506</td>\n",
       "      <td>31.088849</td>\n",
       "      <td>8484.082031</td>\n",
       "    </tr>\n",
       "    <tr>\n",
       "      <th>seg_31ddc5</th>\n",
       "      <td>spectral_rolloff</td>\n",
       "      <td>spectral_centroid</td>\n",
       "      <td>spectral_contrast</td>\n",
       "      <td>spectral_bandwidth</td>\n",
       "      <td>3108.876122</td>\n",
       "      <td>3712.219163</td>\n",
       "      <td>35.144106</td>\n",
       "      <td>7590.454102</td>\n",
       "    </tr>\n",
       "    <tr>\n",
       "      <th>seg_136695</th>\n",
       "      <td>spectral_rolloff</td>\n",
       "      <td>spectral_centroid</td>\n",
       "      <td>spectral_contrast</td>\n",
       "      <td>spectral_bandwidth</td>\n",
       "      <td>3153.378140</td>\n",
       "      <td>4056.447501</td>\n",
       "      <td>30.944478</td>\n",
       "      <td>7999.584961</td>\n",
       "    </tr>\n",
       "    <tr>\n",
       "      <th>seg_b568c6</th>\n",
       "      <td>spectral_rolloff</td>\n",
       "      <td>spectral_centroid</td>\n",
       "      <td>spectral_contrast</td>\n",
       "      <td>spectral_bandwidth</td>\n",
       "      <td>3198.725964</td>\n",
       "      <td>4193.427453</td>\n",
       "      <td>28.407802</td>\n",
       "      <td>8365.649414</td>\n",
       "    </tr>\n",
       "    <tr>\n",
       "      <th>seg_ca2d1b</th>\n",
       "      <td>spectral_rolloff</td>\n",
       "      <td>spectral_centroid</td>\n",
       "      <td>spectral_contrast</td>\n",
       "      <td>spectral_bandwidth</td>\n",
       "      <td>3015.221076</td>\n",
       "      <td>3410.744545</td>\n",
       "      <td>41.785658</td>\n",
       "      <td>7278.222656</td>\n",
       "    </tr>\n",
       "    <tr>\n",
       "      <th>seg_e3dafa</th>\n",
       "      <td>spectral_rolloff</td>\n",
       "      <td>spectral_centroid</td>\n",
       "      <td>spectral_contrast</td>\n",
       "      <td>spectral_bandwidth</td>\n",
       "      <td>3210.535581</td>\n",
       "      <td>4257.839767</td>\n",
       "      <td>24.322915</td>\n",
       "      <td>8139.550781</td>\n",
       "    </tr>\n",
       "    <tr>\n",
       "      <th>seg_e48c23</th>\n",
       "      <td>spectral_rolloff</td>\n",
       "      <td>spectral_centroid</td>\n",
       "      <td>spectral_contrast</td>\n",
       "      <td>spectral_bandwidth</td>\n",
       "      <td>3162.891995</td>\n",
       "      <td>3963.265508</td>\n",
       "      <td>28.481970</td>\n",
       "      <td>7999.584961</td>\n",
       "    </tr>\n",
       "    <tr>\n",
       "      <th>seg_e47d2b</th>\n",
       "      <td>spectral_rolloff</td>\n",
       "      <td>spectral_centroid</td>\n",
       "      <td>spectral_contrast</td>\n",
       "      <td>spectral_bandwidth</td>\n",
       "      <td>3227.069406</td>\n",
       "      <td>4130.362126</td>\n",
       "      <td>34.533080</td>\n",
       "      <td>8161.083984</td>\n",
       "    </tr>\n",
       "    <tr>\n",
       "      <th>seg_79c47a</th>\n",
       "      <td>spectral_rolloff</td>\n",
       "      <td>spectral_centroid</td>\n",
       "      <td>spectral_contrast</td>\n",
       "      <td>spectral_bandwidth</td>\n",
       "      <td>3173.496252</td>\n",
       "      <td>3713.106741</td>\n",
       "      <td>28.540380</td>\n",
       "      <td>7805.786133</td>\n",
       "    </tr>\n",
       "    <tr>\n",
       "      <th>seg_b63de1</th>\n",
       "      <td>spectral_rolloff</td>\n",
       "      <td>spectral_centroid</td>\n",
       "      <td>spectral_contrast</td>\n",
       "      <td>spectral_bandwidth</td>\n",
       "      <td>3137.910730</td>\n",
       "      <td>3764.311139</td>\n",
       "      <td>28.958567</td>\n",
       "      <td>7795.019531</td>\n",
       "    </tr>\n",
       "    <tr>\n",
       "      <th>seg_8658b3</th>\n",
       "      <td>spectral_rolloff</td>\n",
       "      <td>spectral_centroid</td>\n",
       "      <td>spectral_contrast</td>\n",
       "      <td>spectral_bandwidth</td>\n",
       "      <td>3202.622688</td>\n",
       "      <td>4298.848747</td>\n",
       "      <td>29.877022</td>\n",
       "      <td>8236.450195</td>\n",
       "    </tr>\n",
       "    <tr>\n",
       "      <th>seg_c17817</th>\n",
       "      <td>spectral_rolloff</td>\n",
       "      <td>spectral_centroid</td>\n",
       "      <td>spectral_contrast</td>\n",
       "      <td>spectral_bandwidth</td>\n",
       "      <td>3297.640818</td>\n",
       "      <td>4091.506764</td>\n",
       "      <td>26.886874</td>\n",
       "      <td>8462.548828</td>\n",
       "    </tr>\n",
       "    <tr>\n",
       "      <th>seg_c5c455</th>\n",
       "      <td>spectral_rolloff</td>\n",
       "      <td>spectral_centroid</td>\n",
       "      <td>spectral_contrast</td>\n",
       "      <td>spectral_bandwidth</td>\n",
       "      <td>2999.329817</td>\n",
       "      <td>3378.078611</td>\n",
       "      <td>25.713009</td>\n",
       "      <td>7235.156250</td>\n",
       "    </tr>\n",
       "    <tr>\n",
       "      <th>seg_4d18f4</th>\n",
       "      <td>spectral_rolloff</td>\n",
       "      <td>spectral_centroid</td>\n",
       "      <td>spectral_contrast</td>\n",
       "      <td>spectral_bandwidth</td>\n",
       "      <td>2856.405090</td>\n",
       "      <td>3217.912444</td>\n",
       "      <td>20.492171</td>\n",
       "      <td>6815.258789</td>\n",
       "    </tr>\n",
       "    <tr>\n",
       "      <th>seg_77ea14</th>\n",
       "      <td>spectral_rolloff</td>\n",
       "      <td>spectral_centroid</td>\n",
       "      <td>spectral_contrast</td>\n",
       "      <td>spectral_bandwidth</td>\n",
       "      <td>3155.959569</td>\n",
       "      <td>4083.401393</td>\n",
       "      <td>23.149304</td>\n",
       "      <td>8128.784180</td>\n",
       "    </tr>\n",
       "    <tr>\n",
       "      <th>seg_3c64fb</th>\n",
       "      <td>spectral_rolloff</td>\n",
       "      <td>spectral_centroid</td>\n",
       "      <td>spectral_contrast</td>\n",
       "      <td>spectral_bandwidth</td>\n",
       "      <td>3122.720614</td>\n",
       "      <td>4002.764574</td>\n",
       "      <td>26.179339</td>\n",
       "      <td>8031.884766</td>\n",
       "    </tr>\n",
       "    <tr>\n",
       "      <th>seg_e2c82c</th>\n",
       "      <td>spectral_rolloff</td>\n",
       "      <td>spectral_centroid</td>\n",
       "      <td>spectral_contrast</td>\n",
       "      <td>spectral_bandwidth</td>\n",
       "      <td>3187.324276</td>\n",
       "      <td>3822.021004</td>\n",
       "      <td>33.347064</td>\n",
       "      <td>7934.985352</td>\n",
       "    </tr>\n",
       "    <tr>\n",
       "      <th>seg_8c6d4e</th>\n",
       "      <td>spectral_rolloff</td>\n",
       "      <td>spectral_centroid</td>\n",
       "      <td>spectral_contrast</td>\n",
       "      <td>spectral_bandwidth</td>\n",
       "      <td>3170.065437</td>\n",
       "      <td>4076.900162</td>\n",
       "      <td>30.465859</td>\n",
       "      <td>7967.285156</td>\n",
       "    </tr>\n",
       "    <tr>\n",
       "      <th>seg_037461</th>\n",
       "      <td>spectral_rolloff</td>\n",
       "      <td>spectral_centroid</td>\n",
       "      <td>spectral_contrast</td>\n",
       "      <td>spectral_bandwidth</td>\n",
       "      <td>3121.371682</td>\n",
       "      <td>3843.687189</td>\n",
       "      <td>42.533907</td>\n",
       "      <td>7978.051758</td>\n",
       "    </tr>\n",
       "  </tbody>\n",
       "</table>\n",
       "<p>2624 rows × 8 columns</p>\n",
       "</div>"
      ],
      "text/plain": [
       "                           0                  1                  2  \\\n",
       "seg_ea9d37  spectral_rolloff  spectral_centroid  spectral_contrast   \n",
       "seg_bdae02  spectral_rolloff  spectral_centroid  spectral_contrast   \n",
       "seg_211486  spectral_rolloff  spectral_centroid  spectral_contrast   \n",
       "seg_23f823  spectral_rolloff  spectral_centroid  spectral_contrast   \n",
       "seg_c5fc87  spectral_rolloff  spectral_centroid  spectral_contrast   \n",
       "seg_72b68c  spectral_rolloff  spectral_centroid  spectral_contrast   \n",
       "seg_6c34c2  spectral_rolloff  spectral_centroid  spectral_contrast   \n",
       "seg_546864  spectral_rolloff  spectral_centroid  spectral_contrast   \n",
       "seg_7bec10  spectral_rolloff  spectral_centroid  spectral_contrast   \n",
       "seg_bcfad6  spectral_rolloff  spectral_centroid  spectral_contrast   \n",
       "seg_be0dfa  spectral_rolloff  spectral_centroid  spectral_contrast   \n",
       "seg_750d20  spectral_rolloff  spectral_centroid  spectral_contrast   \n",
       "seg_f229bf  spectral_rolloff  spectral_centroid  spectral_contrast   \n",
       "seg_ab001b  spectral_rolloff  spectral_centroid  spectral_contrast   \n",
       "seg_29d497  spectral_rolloff  spectral_centroid  spectral_contrast   \n",
       "seg_08b136  spectral_rolloff  spectral_centroid  spectral_contrast   \n",
       "seg_287e60  spectral_rolloff  spectral_centroid  spectral_contrast   \n",
       "seg_e29670  spectral_rolloff  spectral_centroid  spectral_contrast   \n",
       "seg_ee4ae5  spectral_rolloff  spectral_centroid  spectral_contrast   \n",
       "seg_e20d76  spectral_rolloff  spectral_centroid  spectral_contrast   \n",
       "seg_b197e2  spectral_rolloff  spectral_centroid  spectral_contrast   \n",
       "seg_850d95  spectral_rolloff  spectral_centroid  spectral_contrast   \n",
       "seg_eb32bc  spectral_rolloff  spectral_centroid  spectral_contrast   \n",
       "seg_2ece02  spectral_rolloff  spectral_centroid  spectral_contrast   \n",
       "seg_69dbad  spectral_rolloff  spectral_centroid  spectral_contrast   \n",
       "seg_5f7fd9  spectral_rolloff  spectral_centroid  spectral_contrast   \n",
       "seg_3f2086  spectral_rolloff  spectral_centroid  spectral_contrast   \n",
       "seg_88b289  spectral_rolloff  spectral_centroid  spectral_contrast   \n",
       "seg_9d6ff0  spectral_rolloff  spectral_centroid  spectral_contrast   \n",
       "seg_b36650  spectral_rolloff  spectral_centroid  spectral_contrast   \n",
       "...                      ...                ...                ...   \n",
       "seg_9aa6e2  spectral_rolloff  spectral_centroid  spectral_contrast   \n",
       "seg_dceeca  spectral_rolloff  spectral_centroid  spectral_contrast   \n",
       "seg_f43730  spectral_rolloff  spectral_centroid  spectral_contrast   \n",
       "seg_709d08  spectral_rolloff  spectral_centroid  spectral_contrast   \n",
       "seg_e9a09f  spectral_rolloff  spectral_centroid  spectral_contrast   \n",
       "seg_98ebaa  spectral_rolloff  spectral_centroid  spectral_contrast   \n",
       "seg_f6f523  spectral_rolloff  spectral_centroid  spectral_contrast   \n",
       "seg_74ffde  spectral_rolloff  spectral_centroid  spectral_contrast   \n",
       "seg_38ad16  spectral_rolloff  spectral_centroid  spectral_contrast   \n",
       "seg_09ed4e  spectral_rolloff  spectral_centroid  spectral_contrast   \n",
       "seg_cf74e8  spectral_rolloff  spectral_centroid  spectral_contrast   \n",
       "seg_07fc6d  spectral_rolloff  spectral_centroid  spectral_contrast   \n",
       "seg_31ddc5  spectral_rolloff  spectral_centroid  spectral_contrast   \n",
       "seg_136695  spectral_rolloff  spectral_centroid  spectral_contrast   \n",
       "seg_b568c6  spectral_rolloff  spectral_centroid  spectral_contrast   \n",
       "seg_ca2d1b  spectral_rolloff  spectral_centroid  spectral_contrast   \n",
       "seg_e3dafa  spectral_rolloff  spectral_centroid  spectral_contrast   \n",
       "seg_e48c23  spectral_rolloff  spectral_centroid  spectral_contrast   \n",
       "seg_e47d2b  spectral_rolloff  spectral_centroid  spectral_contrast   \n",
       "seg_79c47a  spectral_rolloff  spectral_centroid  spectral_contrast   \n",
       "seg_b63de1  spectral_rolloff  spectral_centroid  spectral_contrast   \n",
       "seg_8658b3  spectral_rolloff  spectral_centroid  spectral_contrast   \n",
       "seg_c17817  spectral_rolloff  spectral_centroid  spectral_contrast   \n",
       "seg_c5c455  spectral_rolloff  spectral_centroid  spectral_contrast   \n",
       "seg_4d18f4  spectral_rolloff  spectral_centroid  spectral_contrast   \n",
       "seg_77ea14  spectral_rolloff  spectral_centroid  spectral_contrast   \n",
       "seg_3c64fb  spectral_rolloff  spectral_centroid  spectral_contrast   \n",
       "seg_e2c82c  spectral_rolloff  spectral_centroid  spectral_contrast   \n",
       "seg_8c6d4e  spectral_rolloff  spectral_centroid  spectral_contrast   \n",
       "seg_037461  spectral_rolloff  spectral_centroid  spectral_contrast   \n",
       "\n",
       "                             3  spectral_bandwidth  spectral_centroid  \\\n",
       "seg_ea9d37  spectral_bandwidth         3137.564094        3676.435569   \n",
       "seg_bdae02  spectral_bandwidth         3181.067985        4304.909828   \n",
       "seg_211486  spectral_bandwidth         3208.591995        4282.286477   \n",
       "seg_23f823  spectral_bandwidth         3118.661948        3949.139196   \n",
       "seg_c5fc87  spectral_bandwidth         3195.676318        4197.955073   \n",
       "seg_72b68c  spectral_bandwidth         3128.508151        4153.035838   \n",
       "seg_6c34c2  spectral_bandwidth         3071.370389        3338.947551   \n",
       "seg_546864  spectral_bandwidth         2812.174725        2888.350782   \n",
       "seg_7bec10  spectral_bandwidth         3135.844977        4065.157036   \n",
       "seg_bcfad6  spectral_bandwidth         3175.044038        3918.312032   \n",
       "seg_be0dfa  spectral_bandwidth         3191.788504        4202.128976   \n",
       "seg_750d20  spectral_bandwidth         3117.522598        3536.765977   \n",
       "seg_f229bf  spectral_bandwidth         3145.657808        4311.323348   \n",
       "seg_ab001b  spectral_bandwidth         3158.131884        3881.445938   \n",
       "seg_29d497  spectral_bandwidth         3157.506164        4048.492559   \n",
       "seg_08b136  spectral_bandwidth         3239.927857        4108.570746   \n",
       "seg_287e60  spectral_bandwidth         3197.692436        3913.244775   \n",
       "seg_e29670  spectral_bandwidth         3158.530853        3935.011532   \n",
       "seg_ee4ae5  spectral_bandwidth         3071.797116        3595.930857   \n",
       "seg_e20d76  spectral_bandwidth         3155.119831        4017.833232   \n",
       "seg_b197e2  spectral_bandwidth         3138.584194        3568.695825   \n",
       "seg_850d95  spectral_bandwidth         2923.466790        3190.318850   \n",
       "seg_eb32bc  spectral_bandwidth         3021.671628        3484.362669   \n",
       "seg_2ece02  spectral_bandwidth         3189.235942        3944.171990   \n",
       "seg_69dbad  spectral_bandwidth         3209.042650        3923.653272   \n",
       "seg_5f7fd9  spectral_bandwidth         3163.868696        3920.318865   \n",
       "seg_3f2086  spectral_bandwidth         3260.586511        4189.723994   \n",
       "seg_88b289  spectral_bandwidth         3132.682052        3804.646316   \n",
       "seg_9d6ff0  spectral_bandwidth         3033.570141        3264.132273   \n",
       "seg_b36650  spectral_bandwidth         2647.423924        2456.710635   \n",
       "...                        ...                 ...                ...   \n",
       "seg_9aa6e2  spectral_bandwidth         3184.673644        3917.582605   \n",
       "seg_dceeca  spectral_bandwidth         3029.462762        3610.463612   \n",
       "seg_f43730  spectral_bandwidth         3165.949606        3935.732172   \n",
       "seg_709d08  spectral_bandwidth         3168.688002        4164.434210   \n",
       "seg_e9a09f  spectral_bandwidth         3225.542976        4279.261522   \n",
       "seg_98ebaa  spectral_bandwidth         3176.451379        4013.735840   \n",
       "seg_f6f523  spectral_bandwidth         3236.421613        4028.082256   \n",
       "seg_74ffde  spectral_bandwidth         3248.389953        4122.890372   \n",
       "seg_38ad16  spectral_bandwidth         3148.227235        4045.289048   \n",
       "seg_09ed4e  spectral_bandwidth         3103.454191        4048.937518   \n",
       "seg_cf74e8  spectral_bandwidth         3229.223214        4265.651109   \n",
       "seg_07fc6d  spectral_bandwidth         3294.867076        4176.669506   \n",
       "seg_31ddc5  spectral_bandwidth         3108.876122        3712.219163   \n",
       "seg_136695  spectral_bandwidth         3153.378140        4056.447501   \n",
       "seg_b568c6  spectral_bandwidth         3198.725964        4193.427453   \n",
       "seg_ca2d1b  spectral_bandwidth         3015.221076        3410.744545   \n",
       "seg_e3dafa  spectral_bandwidth         3210.535581        4257.839767   \n",
       "seg_e48c23  spectral_bandwidth         3162.891995        3963.265508   \n",
       "seg_e47d2b  spectral_bandwidth         3227.069406        4130.362126   \n",
       "seg_79c47a  spectral_bandwidth         3173.496252        3713.106741   \n",
       "seg_b63de1  spectral_bandwidth         3137.910730        3764.311139   \n",
       "seg_8658b3  spectral_bandwidth         3202.622688        4298.848747   \n",
       "seg_c17817  spectral_bandwidth         3297.640818        4091.506764   \n",
       "seg_c5c455  spectral_bandwidth         2999.329817        3378.078611   \n",
       "seg_4d18f4  spectral_bandwidth         2856.405090        3217.912444   \n",
       "seg_77ea14  spectral_bandwidth         3155.959569        4083.401393   \n",
       "seg_3c64fb  spectral_bandwidth         3122.720614        4002.764574   \n",
       "seg_e2c82c  spectral_bandwidth         3187.324276        3822.021004   \n",
       "seg_8c6d4e  spectral_bandwidth         3170.065437        4076.900162   \n",
       "seg_037461  spectral_bandwidth         3121.371682        3843.687189   \n",
       "\n",
       "            spectral_contrast  spectral_rolloff  \n",
       "seg_ea9d37          36.634005       7504.321289  \n",
       "seg_bdae02          25.140853       8247.216797  \n",
       "seg_211486          38.141597       8085.717773  \n",
       "seg_23f823          35.722006       7859.619141  \n",
       "seg_c5fc87          26.141811       8214.916992  \n",
       "seg_72b68c          43.694050       8021.118164  \n",
       "seg_6c34c2          29.504592       7321.289062  \n",
       "seg_546864          34.244812       6427.661133  \n",
       "seg_7bec10          33.519098       7988.818359  \n",
       "seg_bcfad6          31.548215       7988.818359  \n",
       "seg_be0dfa          41.077375       8247.216797  \n",
       "seg_750d20          24.449492       7547.387695  \n",
       "seg_f229bf          31.520418       8247.216797  \n",
       "seg_ab001b          29.904264       7784.252930  \n",
       "seg_29d497          27.465363       7913.452148  \n",
       "seg_08b136          29.612599       8171.850586  \n",
       "seg_287e60          26.006250       7827.319336  \n",
       "seg_e29670          33.517200       8021.118164  \n",
       "seg_ee4ae5          25.114356       7579.687500  \n",
       "seg_e20d76          25.014248       8064.184570  \n",
       "seg_b197e2          29.758564       7536.621094  \n",
       "seg_850d95          47.753194       6869.091797  \n",
       "seg_eb32bc          29.297300       7299.755859  \n",
       "seg_2ece02          20.450305       8031.884766  \n",
       "seg_69dbad          28.525221       8064.184570  \n",
       "seg_5f7fd9          27.414402       7967.285156  \n",
       "seg_3f2086          36.223130       8365.649414  \n",
       "seg_88b289          29.196561       7859.619141  \n",
       "seg_9d6ff0          30.094437       7288.989258  \n",
       "seg_b36650          23.648245       5609.399414  \n",
       "...                       ...               ...  \n",
       "seg_9aa6e2          47.236750       8074.951172  \n",
       "seg_dceeca          28.030684       7428.955078  \n",
       "seg_f43730          22.305013       7956.518555  \n",
       "seg_709d08          27.196086       8118.017578  \n",
       "seg_e9a09f          34.419157       8376.416016  \n",
       "seg_98ebaa          32.859597       7945.751953  \n",
       "seg_f6f523          38.531839       8128.784180  \n",
       "seg_74ffde          27.767528       8257.983398  \n",
       "seg_38ad16          25.783123       7902.685547  \n",
       "seg_09ed4e          34.736896       7881.152344  \n",
       "seg_cf74e8          34.302369       8279.516602  \n",
       "seg_07fc6d          31.088849       8484.082031  \n",
       "seg_31ddc5          35.144106       7590.454102  \n",
       "seg_136695          30.944478       7999.584961  \n",
       "seg_b568c6          28.407802       8365.649414  \n",
       "seg_ca2d1b          41.785658       7278.222656  \n",
       "seg_e3dafa          24.322915       8139.550781  \n",
       "seg_e48c23          28.481970       7999.584961  \n",
       "seg_e47d2b          34.533080       8161.083984  \n",
       "seg_79c47a          28.540380       7805.786133  \n",
       "seg_b63de1          28.958567       7795.019531  \n",
       "seg_8658b3          29.877022       8236.450195  \n",
       "seg_c17817          26.886874       8462.548828  \n",
       "seg_c5c455          25.713009       7235.156250  \n",
       "seg_4d18f4          20.492171       6815.258789  \n",
       "seg_77ea14          23.149304       8128.784180  \n",
       "seg_3c64fb          26.179339       8031.884766  \n",
       "seg_e2c82c          33.347064       7934.985352  \n",
       "seg_8c6d4e          30.465859       7967.285156  \n",
       "seg_037461          42.533907       7978.051758  \n",
       "\n",
       "[2624 rows x 8 columns]"
      ]
     },
     "execution_count": 40,
     "metadata": {},
     "output_type": "execute_result"
    }
   ],
   "source": [
    "X_test"
   ]
  },
  {
   "cell_type": "code",
   "execution_count": 36,
   "metadata": {},
   "outputs": [
    {
     "data": {
      "text/plain": [
       "(4194, 510)"
      ]
     },
     "execution_count": 36,
     "metadata": {},
     "output_type": "execute_result"
    }
   ],
   "source": [
    "X_tr.shape"
   ]
  },
  {
   "cell_type": "code",
   "execution_count": 18,
   "metadata": {},
   "outputs": [
    {
     "data": {
      "text/plain": [
       "0    0.266087\n",
       "1    0.285984\n",
       "2    0.512603\n",
       "3    0.261155\n",
       "4    0.325636\n",
       "Name: classic_sta_lta1_mean, dtype: float64"
      ]
     },
     "execution_count": 18,
     "metadata": {},
     "output_type": "execute_result"
    }
   ],
   "source": [
    "X_tr['classic_sta_lta1_mean'].head()"
   ]
  },
  {
   "cell_type": "code",
   "execution_count": 19,
   "metadata": {},
   "outputs": [
    {
     "data": {
      "text/plain": [
       "0    93.0\n",
       "1    76.0\n",
       "2    81.0\n",
       "3    83.0\n",
       "4    80.0\n",
       "Name: num_peaks_500, dtype: float64"
      ]
     },
     "execution_count": 19,
     "metadata": {},
     "output_type": "execute_result"
    }
   ],
   "source": [
    "X_tr['num_peaks_500'].head()"
   ]
  },
  {
   "cell_type": "code",
   "execution_count": 10,
   "metadata": {},
   "outputs": [
    {
     "data": {
      "text/plain": [
       "0    93.0\n",
       "1    77.0\n",
       "2    82.0\n",
       "3    83.0\n",
       "4    79.0\n",
       "Name: num_peaks_500, dtype: float64"
      ]
     },
     "execution_count": 10,
     "metadata": {},
     "output_type": "execute_result"
    }
   ],
   "source": [
    "X_tr, y_tr = pickle.load(open('./data/transform (another copy).p', 'rb'))\n",
    "X_tr['num_peaks_500'].head()"
   ]
  },
  {
   "cell_type": "code",
   "execution_count": 44,
   "metadata": {},
   "outputs": [],
   "source": [
    "a = pickle.load(open('./data/earthquake_id.p', 'rb'))\n",
    "# a[4194] = 16\n",
    "# pickle.dump(a[:4194], open('./data/earthquake_id.p', 'wb'))"
   ]
  },
  {
   "cell_type": "code",
   "execution_count": 45,
   "metadata": {},
   "outputs": [
    {
     "data": {
      "text/plain": [
       "(4194,)"
      ]
     },
     "execution_count": 45,
     "metadata": {},
     "output_type": "execute_result"
    }
   ],
   "source": [
    "a.shape"
   ]
  },
  {
   "cell_type": "code",
   "execution_count": 22,
   "metadata": {},
   "outputs": [],
   "source": [
    "X_test = pickle.load(open('./data/test_transform.p', 'rb'))\n",
    "X_test = X_test.astype('float')\n",
    "X_test['var_larger_than_std_dev'] = X_test['var_larger_than_std_dev'].astype(bool)\n",
    "pickle.dump(X_test, open('./data/test_transform.p', 'wb'))"
   ]
  },
  {
   "cell_type": "code",
   "execution_count": 8,
   "metadata": {},
   "outputs": [
    {
     "data": {
      "text/plain": [
       "(2624, 134)"
      ]
     },
     "execution_count": 8,
     "metadata": {},
     "output_type": "execute_result"
    }
   ],
   "source": [
    "X_test.shape"
   ]
  },
  {
   "cell_type": "code",
   "execution_count": 3,
   "metadata": {},
   "outputs": [
    {
     "data": {
      "text/plain": [
       "Index(['classic_sta_lta1_mean', 'classic_sta_lta1_std',\n",
       "       'classic_sta_lta2_mean', 'classic_sta_lta2_std'],\n",
       "      dtype='object')"
      ]
     },
     "execution_count": 3,
     "metadata": {},
     "output_type": "execute_result"
    }
   ],
   "source": [
    "X_tr.columns[X_tr.isnull().any()]"
   ]
  },
  {
   "cell_type": "code",
   "execution_count": 31,
   "metadata": {},
   "outputs": [
    {
     "data": {
      "text/plain": [
       "array([ True])"
      ]
     },
     "execution_count": 31,
     "metadata": {},
     "output_type": "execute_result"
    }
   ],
   "source": [
    "X_tr['var_larger_than_std_dev'].unique()"
   ]
  },
  {
   "cell_type": "code",
   "execution_count": 11,
   "metadata": {},
   "outputs": [],
   "source": [
    "X_tr.describe().to_csv('./view.csv')"
   ]
  },
  {
   "cell_type": "code",
   "execution_count": 19,
   "metadata": {},
   "outputs": [
    {
     "name": "stdout",
     "output_type": "stream",
     "text": [
      "classic_sta_lta1_mean\n",
      "classic_sta_lta1_std\n",
      "classic_sta_lta2_mean\n"
     ]
    }
   ],
   "source": [
    "a, _ = data_transform.missing_fix_tr(X_tr)"
   ]
  },
  {
   "cell_type": "code",
   "execution_count": 20,
   "metadata": {},
   "outputs": [
    {
     "data": {
      "text/plain": [
       "Index(['classic_sta_lta1_mean', 'classic_sta_lta1_std',\n",
       "       'classic_sta_lta2_mean'],\n",
       "      dtype='object')"
      ]
     },
     "execution_count": 20,
     "metadata": {},
     "output_type": "execute_result"
    }
   ],
   "source": [
    "a.columns[a.isnull().any()]"
   ]
  },
  {
   "cell_type": "code",
   "execution_count": 35,
   "metadata": {},
   "outputs": [],
   "source": [
    "mfcc = librosa.feature.mfcc(X_tr['mean'].values)"
   ]
  },
  {
   "cell_type": "code",
   "execution_count": 39,
   "metadata": {},
   "outputs": [
    {
     "name": "stdout",
     "output_type": "stream",
     "text": [
      "[44.16311128 49.4843467  50.61085947 50.35735602 48.53195817 47.57174239\n",
      " 48.4750341  52.46645971 50.36675035]\n"
     ]
    }
   ],
   "source": [
    "for i in mfcc:\n",
    "    print(i)\n",
    "    break"
   ]
  },
  {
   "cell_type": "code",
   "execution_count": 37,
   "metadata": {},
   "outputs": [
    {
     "data": {
      "text/plain": [
       "array([ 0.44506052, -0.06323289, -0.12178521,  0.39719124,  0.49571561,\n",
       "        0.03873742, -0.34894707, -1.19010039,  0.12544813,  0.8258489 ,\n",
       "        0.44304384,  0.29726732,  0.87128261, -0.42895611, -1.66516048,\n",
       "       -0.0220214 ,  0.27425114, -0.41384509,  0.30193733,  0.78675206])"
      ]
     },
     "execution_count": 37,
     "metadata": {},
     "output_type": "execute_result"
    }
   ],
   "source": [
    "librosa.feature.delta(mfcc).mean(axis=1)"
   ]
  },
  {
   "cell_type": "code",
   "execution_count": 11,
   "metadata": {},
   "outputs": [],
   "source": [
    "import collections \n",
    "  \n",
    "# initializing dictionaries \n",
    "dic1 = { 'a' : 1, 'b' : 2 } \n",
    "dic2 = { 'b' : 3, 'c' : 4 } \n",
    "  \n",
    "# initializing ChainMap \n",
    "chain = collections.ChainMap(dic1, dic2)"
   ]
  },
  {
   "cell_type": "code",
   "execution_count": 20,
   "metadata": {},
   "outputs": [
    {
     "data": {
      "text/html": [
       "<div>\n",
       "<style scoped>\n",
       "    .dataframe tbody tr th:only-of-type {\n",
       "        vertical-align: middle;\n",
       "    }\n",
       "\n",
       "    .dataframe tbody tr th {\n",
       "        vertical-align: top;\n",
       "    }\n",
       "\n",
       "    .dataframe thead th {\n",
       "        text-align: right;\n",
       "    }\n",
       "</style>\n",
       "<table border=\"1\" class=\"dataframe\">\n",
       "  <thead>\n",
       "    <tr style=\"text-align: right;\">\n",
       "      <th></th>\n",
       "      <th>seg_id</th>\n",
       "      <th>time_to_failure</th>\n",
       "    </tr>\n",
       "  </thead>\n",
       "  <tbody>\n",
       "    <tr>\n",
       "      <th>0</th>\n",
       "      <td>seg_ea9d37</td>\n",
       "      <td>8.090795</td>\n",
       "    </tr>\n",
       "    <tr>\n",
       "      <th>1</th>\n",
       "      <td>seg_211486</td>\n",
       "      <td>8.106824</td>\n",
       "    </tr>\n",
       "    <tr>\n",
       "      <th>2</th>\n",
       "      <td>seg_bdae02</td>\n",
       "      <td>8.108381</td>\n",
       "    </tr>\n",
       "    <tr>\n",
       "      <th>3</th>\n",
       "      <td>seg_23f823</td>\n",
       "      <td>8.090795</td>\n",
       "    </tr>\n",
       "    <tr>\n",
       "      <th>4</th>\n",
       "      <td>seg_72b68c</td>\n",
       "      <td>8.108381</td>\n",
       "    </tr>\n",
       "  </tbody>\n",
       "</table>\n",
       "</div>"
      ],
      "text/plain": [
       "       seg_id  time_to_failure\n",
       "0  seg_ea9d37         8.090795\n",
       "1  seg_211486         8.106824\n",
       "2  seg_bdae02         8.108381\n",
       "3  seg_23f823         8.090795\n",
       "4  seg_72b68c         8.108381"
      ]
     },
     "execution_count": 20,
     "metadata": {},
     "output_type": "execute_result"
    }
   ],
   "source": [
    "df2 = pd.read_csv(r'./submission1.csv')\n",
    "df2.head()"
   ]
  },
  {
   "cell_type": "code",
   "execution_count": 27,
   "metadata": {},
   "outputs": [
    {
     "data": {
      "text/html": [
       "<div>\n",
       "<style scoped>\n",
       "    .dataframe tbody tr th:only-of-type {\n",
       "        vertical-align: middle;\n",
       "    }\n",
       "\n",
       "    .dataframe tbody tr th {\n",
       "        vertical-align: top;\n",
       "    }\n",
       "\n",
       "    .dataframe thead th {\n",
       "        text-align: right;\n",
       "    }\n",
       "</style>\n",
       "<table border=\"1\" class=\"dataframe\">\n",
       "  <thead>\n",
       "    <tr style=\"text-align: right;\">\n",
       "      <th></th>\n",
       "      <th>seg_id</th>\n",
       "      <th>time_to_failure</th>\n",
       "    </tr>\n",
       "  </thead>\n",
       "  <tbody>\n",
       "    <tr>\n",
       "      <th>0</th>\n",
       "      <td>seg_ea9d37</td>\n",
       "      <td>1.430730</td>\n",
       "    </tr>\n",
       "    <tr>\n",
       "      <th>1</th>\n",
       "      <td>seg_211486</td>\n",
       "      <td>1.393251</td>\n",
       "    </tr>\n",
       "    <tr>\n",
       "      <th>2</th>\n",
       "      <td>seg_bdae02</td>\n",
       "      <td>1.353633</td>\n",
       "    </tr>\n",
       "    <tr>\n",
       "      <th>3</th>\n",
       "      <td>seg_23f823</td>\n",
       "      <td>1.314905</td>\n",
       "    </tr>\n",
       "    <tr>\n",
       "      <th>4</th>\n",
       "      <td>seg_72b68c</td>\n",
       "      <td>1.275586</td>\n",
       "    </tr>\n",
       "  </tbody>\n",
       "</table>\n",
       "</div>"
      ],
      "text/plain": [
       "       seg_id  time_to_failure\n",
       "0  seg_ea9d37         1.430730\n",
       "1  seg_211486         1.393251\n",
       "2  seg_bdae02         1.353633\n",
       "3  seg_23f823         1.314905\n",
       "4  seg_72b68c         1.275586"
      ]
     },
     "execution_count": 27,
     "metadata": {},
     "output_type": "execute_result"
    }
   ],
   "source": [
    "df1 = pd.read_csv(r'./source/submission.csv')\n",
    "# df1['seg_id'] = df2['seg_id']\n",
    "# df1.to_csv(r'./source/submission.csv', index=False)\n",
    "df1.head()"
   ]
  },
  {
   "cell_type": "code",
   "execution_count": 28,
   "metadata": {},
   "outputs": [],
   "source": [
    "df2['time_to_failure'] = df1['time_to_failure']\n",
    "df2.to_csv(r'./source/submission.csv', index=False)"
   ]
  },
  {
   "cell_type": "code",
   "execution_count": 29,
   "metadata": {},
   "outputs": [
    {
     "data": {
      "text/html": [
       "<div>\n",
       "<style scoped>\n",
       "    .dataframe tbody tr th:only-of-type {\n",
       "        vertical-align: middle;\n",
       "    }\n",
       "\n",
       "    .dataframe tbody tr th {\n",
       "        vertical-align: top;\n",
       "    }\n",
       "\n",
       "    .dataframe thead th {\n",
       "        text-align: right;\n",
       "    }\n",
       "</style>\n",
       "<table border=\"1\" class=\"dataframe\">\n",
       "  <thead>\n",
       "    <tr style=\"text-align: right;\">\n",
       "      <th></th>\n",
       "      <th>seg_id</th>\n",
       "      <th>time_to_failure</th>\n",
       "    </tr>\n",
       "  </thead>\n",
       "  <tbody>\n",
       "    <tr>\n",
       "      <th>0</th>\n",
       "      <td>seg_ea9d37</td>\n",
       "      <td>1.430730</td>\n",
       "    </tr>\n",
       "    <tr>\n",
       "      <th>1</th>\n",
       "      <td>seg_211486</td>\n",
       "      <td>1.393251</td>\n",
       "    </tr>\n",
       "    <tr>\n",
       "      <th>2</th>\n",
       "      <td>seg_bdae02</td>\n",
       "      <td>1.353633</td>\n",
       "    </tr>\n",
       "    <tr>\n",
       "      <th>3</th>\n",
       "      <td>seg_23f823</td>\n",
       "      <td>1.314905</td>\n",
       "    </tr>\n",
       "    <tr>\n",
       "      <th>4</th>\n",
       "      <td>seg_72b68c</td>\n",
       "      <td>1.275586</td>\n",
       "    </tr>\n",
       "  </tbody>\n",
       "</table>\n",
       "</div>"
      ],
      "text/plain": [
       "       seg_id  time_to_failure\n",
       "0  seg_ea9d37         1.430730\n",
       "1  seg_211486         1.393251\n",
       "2  seg_bdae02         1.353633\n",
       "3  seg_23f823         1.314905\n",
       "4  seg_72b68c         1.275586"
      ]
     },
     "execution_count": 29,
     "metadata": {},
     "output_type": "execute_result"
    }
   ],
   "source": [
    "df2.head()"
   ]
  },
  {
   "cell_type": "code",
   "execution_count": 17,
   "metadata": {},
   "outputs": [
    {
     "data": {
      "text/plain": [
       "<matplotlib.axes._subplots.AxesSubplot at 0x7f438ab01978>"
      ]
     },
     "execution_count": 17,
     "metadata": {},
     "output_type": "execute_result"
    },
    {
     "data": {
      "image/png": "[encoded data removed]",
      "text/plain": [
       "<Figure size 432x288 with 1 Axes>"
      ]
     },
     "metadata": {
      "needs_background": "light"
     },
     "output_type": "display_data"
    }
   ],
   "source": [
    "tmp = train['acoustic_data'][::15000]\n",
    "train['acoustic_data'][::15000].plot()"
   ]
  },
  {
   "cell_type": "code",
   "execution_count": 19,
   "metadata": {},
   "outputs": [
    {
     "data": {
      "text/plain": [
       "0                 NaN\n",
       "15000        1.173611\n",
       "30000        1.378698\n",
       "45000        1.017167\n",
       "60000        1.016878\n",
       "75000        1.203320\n",
       "90000        1.000000\n",
       "105000       1.124138\n",
       "120000       1.049080\n",
       "135000       1.187135\n",
       "150000       1.061576\n",
       "165000       1.187935\n",
       "180000       1.095703\n",
       "195000       1.016043\n",
       "210000       1.449123\n",
       "225000       1.030266\n",
       "240000       1.042303\n",
       "255000       1.112740\n",
       "270000       1.036474\n",
       "285000       1.047898\n",
       "300000       1.023321\n",
       "315000       1.022789\n",
       "330000       1.014260\n",
       "345000       1.014060\n",
       "360000       1.007799\n",
       "375000       1.007739\n",
       "390000       1.054608\n",
       "405000       1.020227\n",
       "420000       1.028549\n",
       "435000       1.006939\n",
       "               ...   \n",
       "628710000    1.000000\n",
       "628725000    1.000009\n",
       "628740000    1.000003\n",
       "628755000    1.000009\n",
       "628770000    1.000009\n",
       "628785000    1.000018\n",
       "628800000    1.000030\n",
       "628815000    1.000000\n",
       "628830000    1.000009\n",
       "628845000    1.000003\n",
       "628860000    1.000006\n",
       "628875000    1.000030\n",
       "628890000    1.000000\n",
       "628905000    1.000038\n",
       "628920000    1.000018\n",
       "628935000    1.000096\n",
       "628950000    1.000000\n",
       "628965000    1.000002\n",
       "628980000    1.000009\n",
       "628995000    1.000002\n",
       "629010000    1.000002\n",
       "629025000    1.000018\n",
       "629040000    1.000018\n",
       "629055000    1.000009\n",
       "629070000    1.000018\n",
       "629085000    1.000002\n",
       "629100000    1.000006\n",
       "629115000    1.000014\n",
       "629130000    1.000000\n",
       "629145000    1.000045\n",
       "Name: acoustic_data, Length: 41944, dtype: float64"
      ]
     },
     "execution_count": 19,
     "metadata": {},
     "output_type": "execute_result"
    }
   ],
   "source": [
    "np.cumsum(tmp ** 2) / np.cumsum(tmp ** 2).shift()"
   ]
  },
  {
   "cell_type": "code",
   "execution_count": 5,
   "metadata": {},
   "outputs": [
    {
     "data": {
      "text/plain": [
       "acoustic_data      False\n",
       "time_to_failure    False\n",
       "dtype: bool"
      ]
     },
     "execution_count": 5,
     "metadata": {},
     "output_type": "execute_result"
    }
   ],
   "source": [
    "train.isnull().any()"
   ]
  },
  {
   "cell_type": "code",
   "execution_count": 3,
   "metadata": {},
   "outputs": [],
   "source": [
    "# import pickle\n",
    "# pickle.dump(train, open('./train.p', 'wb'))"
   ]
  },
  {
   "cell_type": "code",
   "execution_count": 4,
   "metadata": {},
   "outputs": [],
   "source": [
    "# detect points corresponding to quake occurrence\n",
    "quake_list = np.where(np.diff(train['time_to_failure']) > 5)[0]\n",
    "len(quake_list)"
   ]
  },
  {
   "cell_type": "markdown",
   "metadata": {},
   "source": [
    "## Feature Engineering"
   ]
  },
  {
   "cell_type": "markdown",
   "metadata": {},
   "source": [
    "General idea: downsample, summarize every period to useful statistics"
   ]
  },
  {
   "cell_type": "code",
   "execution_count": 6,
   "metadata": {},
   "outputs": [],
   "source": [
    "# Create a training file with simple derived features\n",
    "\n",
    "# test sample length\n",
    "rows = 150_000\n",
    "\n",
    "segments = int(np.floor(train.shape[0] / rows))"
   ]
  },
  {
   "cell_type": "code",
   "execution_count": 7,
   "metadata": {},
   "outputs": [],
   "source": [
    "X_tr = pd.DataFrame(index=range(segments), dtype=np.float64)\n",
    "y_tr = pd.DataFrame(index=range(segments), dtype=np.float64, columns=['time_to_failure'])"
   ]
  },
  {
   "cell_type": "code",
   "execution_count": 8,
   "metadata": {},
   "outputs": [],
   "source": [
    "for seg_i in range(segments):\n",
    "    seg = train.iloc[seg_i * rows : (seg_i + 1) * rows]\n",
    "    x = pd.Series(seg['acoustic_data'].values)\n",
    "    y = seg['time_to_failure'].values[-1]\n",
    "    \n",
    "    y_tr.loc[seg_i, 'time_to_failure'] = y\n",
    "\n",
    "    # Usual aggregations: mean, std, min and max\n",
    "    X_tr.loc[seg_i, 'mean'] = x.mean()\n",
    "    X_tr.loc[seg_i, 'std'] = x.std()\n",
    "    X_tr.loc[seg_i, 'max'] = x.max()\n",
    "    X_tr.loc[seg_i, 'min'] = x.min()\n",
    "    X_tr.loc[seg_i, 'mad'] = x.mad()\n",
    "    X_tr.loc[seg_i, 'kurt'] = x.kurtosis()\n",
    "    X_tr.loc[seg_i, 'skew'] = x.skew()\n",
    "    X_tr.loc[seg_i, 'med'] = x.median()\n",
    "    \n",
    "    # abs\n",
    "    X_tr.loc[seg_i, 'abs_min'] = np.abs(x.min())\n",
    "    X_tr.loc[seg_i, 'abs_max'] = np.abs(x.max())\n",
    "    X_tr.loc[seg_i, 'abs_std'] = np.abs(x).std()\n",
    "    \n",
    "\n",
    "    # quantile related\n",
    "    for q in (0.1, 0.3, 0.7, 0.9):\n",
    "        X_tr.loc[seg_i, f'q{q}'] = np.quantile(x, q)\n",
    "        \n",
    "    "
   ]
  },
  {
   "cell_type": "code",
   "execution_count": 18,
   "metadata": {},
   "outputs": [],
   "source": [
    "# leaveOneGroupMaker()\n",
    "failure_time_tr = (np.array(quake_list) / rows).astype(int).tolist()\n",
    "import copy\n",
    "def yield_group(num_fold):\n",
    "    prev = 0\n",
    "    dump = []\n",
    "    for cur in failure_time_tr:\n",
    "        dump.append(list(range(prev, cur)))\n",
    "        prev = cur\n",
    "    dump.append(range(cur, len(X_tr) - 1))\n",
    "    total_num = len(dump)\n",
    "    for i in range(num_fold):\n",
    "        valid_index = []\n",
    "        train_index = copy.deepcopy(dump)\n",
    "        to_remove = set()\n",
    "        for j in range(total_num):\n",
    "            if ((j + i) % num_fold) == 0:\n",
    "                valid_index.append(train_index[j])\n",
    "                to_remove.add(j)\n",
    "        train_index = [group for i, group in enumerate(train_index) \n",
    "                       if i not in to_remove]\n",
    "    \n",
    "        train_index = [i for item in train_index for i in item]\n",
    "        valid_index = [i for item in valid_index for i in item]\n",
    "\n",
    "        yield train_index, valid_index"
   ]
  },
  {
   "cell_type": "code",
   "execution_count": 19,
   "metadata": {},
   "outputs": [],
   "source": [
    "n_fold = 5\n",
    "# folds = KFold(n_splits=n_fold, shuffle=True, random_state=11)\n",
    "\n",
    "params = {'num_leaves': 128,\n",
    "          'min_data_in_leaf': 79,\n",
    "          'objective': 'huber',\n",
    "          'max_depth': -1,\n",
    "          'learning_rate': 0.01,\n",
    "          \"boosting\": \"gbdt\",\n",
    "          \"bagging_freq\": 5,\n",
    "          \"bagging_fraction\": 0.8126672064208567,\n",
    "          \"bagging_seed\": 11,\n",
    "          \"metric\": 'mae',\n",
    "          \"verbosity\": -1,\n",
    "          'reg_alpha': 0.1302650970728192,\n",
    "          'reg_lambda': 0.3603427518866501\n",
    "         }"
   ]
  },
  {
   "cell_type": "code",
   "execution_count": 20,
   "metadata": {},
   "outputs": [
    {
     "name": "stdout",
     "output_type": "stream",
     "text": [
      "Fold 0 started at Fri Apr  5 22:30:01 2019\n",
      "Training until validation scores don't improve for 200 rounds.\n",
      "Early stopping, best iteration is:\n",
      "[590]\ttraining's l1: 2.13757\tvalid_1's l1: 1.8705\n",
      "Fold 1 started at Fri Apr  5 22:30:01 2019\n",
      "Training until validation scores don't improve for 200 rounds.\n",
      "Early stopping, best iteration is:\n",
      "[720]\ttraining's l1: 1.87969\tvalid_1's l1: 2.55085\n",
      "Fold 2 started at Fri Apr  5 22:30:01 2019\n",
      "Training until validation scores don't improve for 200 rounds.\n",
      "Early stopping, best iteration is:\n",
      "[370]\ttraining's l1: 2.29026\tvalid_1's l1: 1.95741\n",
      "Fold 3 started at Fri Apr  5 22:30:02 2019\n",
      "Training until validation scores don't improve for 200 rounds.\n",
      "Early stopping, best iteration is:\n",
      "[870]\ttraining's l1: 1.67935\tvalid_1's l1: 3.02499\n",
      "Fold 4 started at Fri Apr  5 22:30:02 2019\n",
      "Training until validation scores don't improve for 200 rounds.\n",
      "Early stopping, best iteration is:\n",
      "[2080]\ttraining's l1: 1.83032\tvalid_1's l1: 1.84556\n",
      "CV mean score: 2.2499, std: 0.4657.\n"
     ]
    }
   ],
   "source": [
    "# Test run\n",
    "X = X_tr\n",
    "# scaler = StandardScaler()\n",
    "# scaler.fit(X)\n",
    "# X = pd.DataFrame(scaler.transform(X), columns=X.columns)\n",
    "\n",
    "y = y_tr\n",
    "\n",
    "\n",
    "\n",
    "scores = []\n",
    "# for fold_n, (train_index, valid_index) in enumerate(folds.split(X)):\n",
    "for fold_n, (train_index, valid_index) in enumerate(yield_group(n_fold)):\n",
    "        print('Fold', fold_n, 'started at', time.ctime())\n",
    "        X_train, X_valid = X.iloc[train_index], X.iloc[valid_index]\n",
    "        y_train, y_valid = y.iloc[train_index], y.iloc[valid_index]\n",
    "        model = lgb.LGBMRegressor(**params, n_estimators = 50000, n_jobs = n_fold)\n",
    "        model.fit(X_train, y_train, \n",
    "                    eval_set=[(X_train, y_train), (X_valid, y_valid)], eval_metric='mae',\n",
    "                    verbose=10000, early_stopping_rounds=200)\n",
    "        y_pred_valid = model.predict(X_valid)\n",
    "#         y_pred = model.predict(X_test, num_iteration=model.best_iteration_)\n",
    "        scores.append(mean_absolute_error(y_valid, y_pred_valid))\n",
    "        \n",
    "print('CV mean score: {0:.4f}, std: {1:.4f}.'.format(np.mean(scores), np.std(scores)))"
   ]
  },
  {
   "cell_type": "code",
   "execution_count": 21,
   "metadata": {},
   "outputs": [],
   "source": [
    "from source.data_transform import transform"
   ]
  },
  {
   "cell_type": "code",
   "execution_count": 27,
   "metadata": {},
   "outputs": [],
   "source": [
    "a =pd.DataFrame(transform(X_valid['mean']), index=[0])"
   ]
  },
  {
   "cell_type": "code",
   "execution_count": 45,
   "metadata": {},
   "outputs": [
    {
     "data": {
      "text/plain": [
       "8.25973207374091"
      ]
     },
     "execution_count": 45,
     "metadata": {},
     "output_type": "execute_result"
    }
   ],
   "source": [
    "model.predict(a)[0]"
   ]
  },
  {
   "cell_type": "code",
   "execution_count": 29,
   "metadata": {},
   "outputs": [
    {
     "data": {
      "text/html": [
       "<div>\n",
       "<style scoped>\n",
       "    .dataframe tbody tr th:only-of-type {\n",
       "        vertical-align: middle;\n",
       "    }\n",
       "\n",
       "    .dataframe tbody tr th {\n",
       "        vertical-align: top;\n",
       "    }\n",
       "\n",
       "    .dataframe thead th {\n",
       "        text-align: right;\n",
       "    }\n",
       "</style>\n",
       "<table border=\"1\" class=\"dataframe\">\n",
       "  <thead>\n",
       "    <tr style=\"text-align: right;\">\n",
       "      <th></th>\n",
       "      <th>mean</th>\n",
       "      <th>std</th>\n",
       "      <th>max</th>\n",
       "      <th>min</th>\n",
       "      <th>mad</th>\n",
       "      <th>kurt</th>\n",
       "      <th>skew</th>\n",
       "      <th>med</th>\n",
       "      <th>abs_min</th>\n",
       "      <th>abs_max</th>\n",
       "      <th>abs_std</th>\n",
       "      <th>q0.1</th>\n",
       "      <th>q0.3</th>\n",
       "      <th>q0.7</th>\n",
       "      <th>q0.9</th>\n",
       "    </tr>\n",
       "  </thead>\n",
       "  <tbody>\n",
       "    <tr>\n",
       "      <th>0</th>\n",
       "      <td>4.515945</td>\n",
       "      <td>0.225901</td>\n",
       "      <td>5.131573</td>\n",
       "      <td>3.79802</td>\n",
       "      <td>0.181811</td>\n",
       "      <td>-0.17525</td>\n",
       "      <td>-0.005196</td>\n",
       "      <td>4.515593</td>\n",
       "      <td>3.79802</td>\n",
       "      <td>5.131573</td>\n",
       "      <td>0.225901</td>\n",
       "      <td>4.226035</td>\n",
       "      <td>4.39222</td>\n",
       "      <td>4.642872</td>\n",
       "      <td>4.788357</td>\n",
       "    </tr>\n",
       "  </tbody>\n",
       "</table>\n",
       "</div>"
      ],
      "text/plain": [
       "       mean       std       max      min       mad     kurt      skew  \\\n",
       "0  4.515945  0.225901  5.131573  3.79802  0.181811 -0.17525 -0.005196   \n",
       "\n",
       "        med  abs_min   abs_max   abs_std      q0.1     q0.3      q0.7  \\\n",
       "0  4.515593  3.79802  5.131573  0.225901  4.226035  4.39222  4.642872   \n",
       "\n",
       "       q0.9  \n",
       "0  4.788357  "
      ]
     },
     "execution_count": 29,
     "metadata": {},
     "output_type": "execute_result"
    }
   ],
   "source": [
    "x"
   ]
  },
  {
   "cell_type": "code",
   "execution_count": 30,
   "metadata": {},
   "outputs": [
    {
     "data": {
      "text/plain": [
       "Index(['mean', 'std', 'max', 'min', 'mad', 'kurt', 'skew', 'med', 'abs_min',\n",
       "       'abs_max', 'abs_std', 'q0.1', 'q0.3', 'q0.7', 'q0.9'],\n",
       "      dtype='object')"
      ]
     },
     "execution_count": 30,
     "metadata": {},
     "output_type": "execute_result"
    }
   ],
   "source": [
    "X_valid.columns"
   ]
  },
  {
   "cell_type": "code",
   "execution_count": 47,
   "metadata": {},
   "outputs": [],
   "source": [
    "import os\n",
    "result = {}\n",
    "for r, d, f in os.walk('./test'):\n",
    "    for file in f:\n",
    "        if file.endswith('.csv'):\n",
    "            name = file.split('.', 1)[0]\n",
    "            df = pd.read_csv(os.path.join('./test', file), dtype={'acoustic_data': np.int16})\n",
    "            x = transform(df)\n",
    "            x =pd.DataFrame(x, index=[0])\n",
    "            y = model.predict(x)[0]\n",
    "            result[name] = y                                               "
   ]
  },
  {
   "cell_type": "code",
   "execution_count": 51,
   "metadata": {},
   "outputs": [],
   "source": [
    "df = pd.Series(result).to_frame()"
   ]
  },
  {
   "cell_type": "code",
   "execution_count": 58,
   "metadata": {},
   "outputs": [],
   "source": [
    "df.index.name = 'seg_id'\n",
    "df = df.rename(columns={0: 'time_to_failure'})\n",
    "df.to_csv('./submission.csv')"
   ]
  },
  {
   "cell_type": "code",
   "execution_count": 6,
   "metadata": {},
   "outputs": [],
   "source": [
    "df = pd.read_csv('./data/test/seg_0a0fbb.csv', dtype={'acoustic_data': np.int16})"
   ]
  },
  {
   "cell_type": "code",
   "execution_count": 10,
   "metadata": {},
   "outputs": [
    {
     "data": {
      "text/plain": [
       "acoustic_data    int16\n",
       "dtype: object"
      ]
     },
     "execution_count": 10,
     "metadata": {},
     "output_type": "execute_result"
    }
   ],
   "source": [
    "df.dtypes"
   ]
  },
  {
   "cell_type": "code",
   "execution_count": 14,
   "metadata": {},
   "outputs": [
    {
     "data": {
      "text/plain": [
       "0          3\n",
       "1         -3\n",
       "2         -1\n",
       "3          6\n",
       "4          8\n",
       "5          1\n",
       "6          6\n",
       "7          5\n",
       "8          6\n",
       "9          8\n",
       "10         5\n",
       "11         2\n",
       "12        10\n",
       "13        13\n",
       "14         3\n",
       "15         1\n",
       "16         0\n",
       "17         3\n",
       "18         2\n",
       "19         5\n",
       "20         5\n",
       "21         6\n",
       "22         7\n",
       "23        10\n",
       "24         6\n",
       "25         5\n",
       "26         7\n",
       "27         5\n",
       "28         3\n",
       "29         6\n",
       "          ..\n",
       "149970     4\n",
       "149971     5\n",
       "149972     7\n",
       "149973     2\n",
       "149974     0\n",
       "149975     4\n",
       "149976     5\n",
       "149977     3\n",
       "149978     8\n",
       "149979     6\n",
       "149980     6\n",
       "149981     5\n",
       "149982     7\n",
       "149983     3\n",
       "149984     1\n",
       "149985     1\n",
       "149986     2\n",
       "149987     4\n",
       "149988     7\n",
       "149989     3\n",
       "149990     0\n",
       "149991     2\n",
       "149992     5\n",
       "149993     2\n",
       "149994     4\n",
       "149995     8\n",
       "149996     4\n",
       "149997     1\n",
       "149998     3\n",
       "149999     2\n",
       "Name: acoustic_data, Length: 150000, dtype: int16"
      ]
     },
     "execution_count": 14,
     "metadata": {},
     "output_type": "execute_result"
    }
   ],
   "source": [
    "df['acoustic_data']"
   ]
  },
  {
   "cell_type": "code",
   "execution_count": 3,
   "metadata": {},
   "outputs": [
    {
     "data": {
      "text/html": [
       "<div>\n",
       "<style scoped>\n",
       "    .dataframe tbody tr th:only-of-type {\n",
       "        vertical-align: middle;\n",
       "    }\n",
       "\n",
       "    .dataframe tbody tr th {\n",
       "        vertical-align: top;\n",
       "    }\n",
       "\n",
       "    .dataframe thead th {\n",
       "        text-align: right;\n",
       "    }\n",
       "</style>\n",
       "<table border=\"1\" class=\"dataframe\">\n",
       "  <thead>\n",
       "    <tr style=\"text-align: right;\">\n",
       "      <th></th>\n",
       "      <th>a</th>\n",
       "      <th>b</th>\n",
       "    </tr>\n",
       "  </thead>\n",
       "  <tbody>\n",
       "    <tr>\n",
       "      <th>cc</th>\n",
       "      <td>1</td>\n",
       "      <td>2</td>\n",
       "    </tr>\n",
       "    <tr>\n",
       "      <th>dd</th>\n",
       "      <td>3</td>\n",
       "      <td>4</td>\n",
       "    </tr>\n",
       "  </tbody>\n",
       "</table>\n",
       "</div>"
      ],
      "text/plain": [
       "    a  b\n",
       "cc  1  2\n",
       "dd  3  4"
      ]
     },
     "execution_count": 3,
     "metadata": {},
     "output_type": "execute_result"
    }
   ],
   "source": [
    "output1 = {'a': 1, 'b': 2}\n",
    "output2 = {'a': 3, 'b': 4}\n",
    "d = {'cc': output1, 'dd': output2}\n",
    "pd.DataFrame(d).T"
   ]
  },
  {
   "cell_type": "code",
   "execution_count": 5,
   "metadata": {},
   "outputs": [],
   "source": [
    "df = pickle.load(open('./data/test_transform.p', 'rb'))"
   ]
  },
  {
   "cell_type": "code",
   "execution_count": 6,
   "metadata": {},
   "outputs": [
    {
     "data": {
      "text/html": [
       "<div>\n",
       "<style scoped>\n",
       "    .dataframe tbody tr th:only-of-type {\n",
       "        vertical-align: middle;\n",
       "    }\n",
       "\n",
       "    .dataframe tbody tr th {\n",
       "        vertical-align: top;\n",
       "    }\n",
       "\n",
       "    .dataframe thead th {\n",
       "        text-align: right;\n",
       "    }\n",
       "</style>\n",
       "<table border=\"1\" class=\"dataframe\">\n",
       "  <thead>\n",
       "    <tr style=\"text-align: right;\">\n",
       "      <th></th>\n",
       "      <th>MA_1000MA_std_mean</th>\n",
       "      <th>MA_400MA_BB_high_mean</th>\n",
       "      <th>MA_400MA_BB_low_mean</th>\n",
       "      <th>MA_700MA_BB_high_mean</th>\n",
       "      <th>MA_700MA_BB_low_mean</th>\n",
       "      <th>abs_max</th>\n",
       "      <th>abs_max_roll_mean_10</th>\n",
       "      <th>abs_max_roll_mean_100</th>\n",
       "      <th>abs_max_roll_mean_1000</th>\n",
       "      <th>abs_max_roll_std_10</th>\n",
       "      <th>...</th>\n",
       "      <th>std_first_10000</th>\n",
       "      <th>std_first_50000</th>\n",
       "      <th>std_last_10000</th>\n",
       "      <th>std_last_50000</th>\n",
       "      <th>std_roll_mean_10</th>\n",
       "      <th>std_roll_mean_100</th>\n",
       "      <th>std_roll_mean_1000</th>\n",
       "      <th>std_roll_std_10</th>\n",
       "      <th>std_roll_std_100</th>\n",
       "      <th>std_roll_std_1000</th>\n",
       "    </tr>\n",
       "  </thead>\n",
       "  <tbody>\n",
       "    <tr>\n",
       "      <th>seg_ea9d37</th>\n",
       "      <td>4.568766</td>\n",
       "      <td>17.530626</td>\n",
       "      <td>-8.821744</td>\n",
       "      <td>17.826056</td>\n",
       "      <td>-9.117174</td>\n",
       "      <td>122.0</td>\n",
       "      <td>71.3</td>\n",
       "      <td>8.80</td>\n",
       "      <td>5.210</td>\n",
       "      <td>80.120465</td>\n",
       "      <td>...</td>\n",
       "      <td>3.975093</td>\n",
       "      <td>5.173851</td>\n",
       "      <td>8.106770</td>\n",
       "      <td>5.518180</td>\n",
       "      <td>3.042239</td>\n",
       "      <td>0.437763</td>\n",
       "      <td>0.240919</td>\n",
       "      <td>3.092674</td>\n",
       "      <td>3.431853</td>\n",
       "      <td>2.998720</td>\n",
       "    </tr>\n",
       "    <tr>\n",
       "      <th>seg_211486</th>\n",
       "      <td>3.322039</td>\n",
       "      <td>13.781149</td>\n",
       "      <td>-5.715271</td>\n",
       "      <td>13.895094</td>\n",
       "      <td>-5.829216</td>\n",
       "      <td>78.0</td>\n",
       "      <td>49.4</td>\n",
       "      <td>7.68</td>\n",
       "      <td>4.622</td>\n",
       "      <td>57.760425</td>\n",
       "      <td>...</td>\n",
       "      <td>3.289709</td>\n",
       "      <td>3.225403</td>\n",
       "      <td>4.696127</td>\n",
       "      <td>4.802056</td>\n",
       "      <td>1.948658</td>\n",
       "      <td>0.381269</td>\n",
       "      <td>0.226287</td>\n",
       "      <td>1.991232</td>\n",
       "      <td>2.169874</td>\n",
       "      <td>1.976430</td>\n",
       "    </tr>\n",
       "    <tr>\n",
       "      <th>seg_bdae02</th>\n",
       "      <td>3.144050</td>\n",
       "      <td>13.137599</td>\n",
       "      <td>-5.388415</td>\n",
       "      <td>13.228319</td>\n",
       "      <td>-5.479135</td>\n",
       "      <td>66.0</td>\n",
       "      <td>56.3</td>\n",
       "      <td>7.32</td>\n",
       "      <td>4.562</td>\n",
       "      <td>51.145109</td>\n",
       "      <td>...</td>\n",
       "      <td>2.702924</td>\n",
       "      <td>2.954444</td>\n",
       "      <td>2.713655</td>\n",
       "      <td>4.076679</td>\n",
       "      <td>1.671995</td>\n",
       "      <td>0.368735</td>\n",
       "      <td>0.224855</td>\n",
       "      <td>1.651704</td>\n",
       "      <td>1.731129</td>\n",
       "      <td>1.547032</td>\n",
       "    </tr>\n",
       "    <tr>\n",
       "      <th>seg_23f823</th>\n",
       "      <td>5.107213</td>\n",
       "      <td>18.656420</td>\n",
       "      <td>-10.386189</td>\n",
       "      <td>19.091849</td>\n",
       "      <td>-10.821618</td>\n",
       "      <td>126.0</td>\n",
       "      <td>75.2</td>\n",
       "      <td>10.49</td>\n",
       "      <td>5.027</td>\n",
       "      <td>93.115281</td>\n",
       "      <td>...</td>\n",
       "      <td>3.961759</td>\n",
       "      <td>4.514219</td>\n",
       "      <td>10.785993</td>\n",
       "      <td>8.251113</td>\n",
       "      <td>3.745786</td>\n",
       "      <td>0.495398</td>\n",
       "      <td>0.286305</td>\n",
       "      <td>4.195660</td>\n",
       "      <td>4.740190</td>\n",
       "      <td>4.243137</td>\n",
       "    </tr>\n",
       "    <tr>\n",
       "      <th>seg_72b68c</th>\n",
       "      <td>3.202152</td>\n",
       "      <td>13.340650</td>\n",
       "      <td>-5.495507</td>\n",
       "      <td>13.440527</td>\n",
       "      <td>-5.595385</td>\n",
       "      <td>61.0</td>\n",
       "      <td>32.5</td>\n",
       "      <td>6.28</td>\n",
       "      <td>4.655</td>\n",
       "      <td>46.182729</td>\n",
       "      <td>...</td>\n",
       "      <td>3.066599</td>\n",
       "      <td>3.971962</td>\n",
       "      <td>3.179485</td>\n",
       "      <td>3.079516</td>\n",
       "      <td>1.636616</td>\n",
       "      <td>0.383549</td>\n",
       "      <td>0.245224</td>\n",
       "      <td>1.834307</td>\n",
       "      <td>1.843239</td>\n",
       "      <td>1.641587</td>\n",
       "    </tr>\n",
       "  </tbody>\n",
       "</table>\n",
       "<p>5 rows × 118 columns</p>\n",
       "</div>"
      ],
      "text/plain": [
       "            MA_1000MA_std_mean  MA_400MA_BB_high_mean  MA_400MA_BB_low_mean  \\\n",
       "seg_ea9d37            4.568766              17.530626             -8.821744   \n",
       "seg_211486            3.322039              13.781149             -5.715271   \n",
       "seg_bdae02            3.144050              13.137599             -5.388415   \n",
       "seg_23f823            5.107213              18.656420            -10.386189   \n",
       "seg_72b68c            3.202152              13.340650             -5.495507   \n",
       "\n",
       "            MA_700MA_BB_high_mean  MA_700MA_BB_low_mean  abs_max  \\\n",
       "seg_ea9d37              17.826056             -9.117174    122.0   \n",
       "seg_211486              13.895094             -5.829216     78.0   \n",
       "seg_bdae02              13.228319             -5.479135     66.0   \n",
       "seg_23f823              19.091849            -10.821618    126.0   \n",
       "seg_72b68c              13.440527             -5.595385     61.0   \n",
       "\n",
       "            abs_max_roll_mean_10  abs_max_roll_mean_100  \\\n",
       "seg_ea9d37                  71.3                   8.80   \n",
       "seg_211486                  49.4                   7.68   \n",
       "seg_bdae02                  56.3                   7.32   \n",
       "seg_23f823                  75.2                  10.49   \n",
       "seg_72b68c                  32.5                   6.28   \n",
       "\n",
       "            abs_max_roll_mean_1000  abs_max_roll_std_10  ...  std_first_10000  \\\n",
       "seg_ea9d37                   5.210            80.120465  ...         3.975093   \n",
       "seg_211486                   4.622            57.760425  ...         3.289709   \n",
       "seg_bdae02                   4.562            51.145109  ...         2.702924   \n",
       "seg_23f823                   5.027            93.115281  ...         3.961759   \n",
       "seg_72b68c                   4.655            46.182729  ...         3.066599   \n",
       "\n",
       "            std_first_50000  std_last_10000  std_last_50000  std_roll_mean_10  \\\n",
       "seg_ea9d37         5.173851        8.106770        5.518180          3.042239   \n",
       "seg_211486         3.225403        4.696127        4.802056          1.948658   \n",
       "seg_bdae02         2.954444        2.713655        4.076679          1.671995   \n",
       "seg_23f823         4.514219       10.785993        8.251113          3.745786   \n",
       "seg_72b68c         3.971962        3.179485        3.079516          1.636616   \n",
       "\n",
       "            std_roll_mean_100  std_roll_mean_1000  std_roll_std_10  \\\n",
       "seg_ea9d37           0.437763            0.240919         3.092674   \n",
       "seg_211486           0.381269            0.226287         1.991232   \n",
       "seg_bdae02           0.368735            0.224855         1.651704   \n",
       "seg_23f823           0.495398            0.286305         4.195660   \n",
       "seg_72b68c           0.383549            0.245224         1.834307   \n",
       "\n",
       "            std_roll_std_100  std_roll_std_1000  \n",
       "seg_ea9d37          3.431853           2.998720  \n",
       "seg_211486          2.169874           1.976430  \n",
       "seg_bdae02          1.731129           1.547032  \n",
       "seg_23f823          4.740190           4.243137  \n",
       "seg_72b68c          1.843239           1.641587  \n",
       "\n",
       "[5 rows x 118 columns]"
      ]
     },
     "execution_count": 6,
     "metadata": {},
     "output_type": "execute_result"
    }
   ],
   "source": [
    "df.head()"
   ]
  },
  {
   "cell_type": "code",
   "execution_count": 16,
   "metadata": {},
   "outputs": [],
   "source": [
    "!cd source"
   ]
  },
  {
   "cell_type": "code",
   "execution_count": 19,
   "metadata": {},
   "outputs": [
    {
     "name": "stdout",
     "output_type": "stream",
     "text": [
      "/bin/sh: 1: l: not found\r\n"
     ]
    }
   ],
   "source": [
    "!l"
   ]
  },
  {
   "cell_type": "code",
   "execution_count": 14,
   "metadata": {},
   "outputs": [
    {
     "ename": "ModuleNotFoundError",
     "evalue": "No module named 'data_transform'",
     "output_type": "error",
     "traceback": [
      "\u001b[0;31m---------------------------------------------------------------------------\u001b[0m",
      "\u001b[0;31mModuleNotFoundError\u001b[0m                       Traceback (most recent call last)",
      "\u001b[0;32m<ipython-input-14-b19fdc36f82b>\u001b[0m in \u001b[0;36m<module>\u001b[0;34m\u001b[0m\n\u001b[0;32m----> 1\u001b[0;31m \u001b[0;32mimport\u001b[0m \u001b[0msource\u001b[0m\u001b[0;34m.\u001b[0m\u001b[0mdata_loader\u001b[0m\u001b[0;34m\u001b[0m\u001b[0;34m\u001b[0m\u001b[0m\n\u001b[0m",
      "\u001b[0;32m~/Desktop/kaggle/LANL-Earthquake-Prediction/source/data_loader.py\u001b[0m in \u001b[0;36m<module>\u001b[0;34m\u001b[0m\n\u001b[1;32m      4\u001b[0m \u001b[0;32mimport\u001b[0m \u001b[0mpickle\u001b[0m\u001b[0;34m\u001b[0m\u001b[0;34m\u001b[0m\u001b[0m\n\u001b[1;32m      5\u001b[0m \u001b[0;34m\u001b[0m\u001b[0m\n\u001b[0;32m----> 6\u001b[0;31m \u001b[0;32mimport\u001b[0m \u001b[0mdata_transform\u001b[0m\u001b[0;34m\u001b[0m\u001b[0;34m\u001b[0m\u001b[0m\n\u001b[0m\u001b[1;32m      7\u001b[0m \u001b[0;34m\u001b[0m\u001b[0m\n\u001b[1;32m      8\u001b[0m \u001b[0;32mdef\u001b[0m \u001b[0mload_train\u001b[0m\u001b[0;34m(\u001b[0m\u001b[0;34m)\u001b[0m\u001b[0;34m:\u001b[0m\u001b[0;34m\u001b[0m\u001b[0;34m\u001b[0m\u001b[0m\n",
      "\u001b[0;31mModuleNotFoundError\u001b[0m: No module named 'data_transform'"
     ]
    }
   ],
   "source": [
    "import source.data_loader"
   ]
  },
  {
   "cell_type": "code",
   "execution_count": null,
   "metadata": {},
   "outputs": [],
   "source": []
  }
 ],
 "metadata": {
  "kernelspec": {
   "display_name": "Python 3",
   "language": "python",
   "name": "python3"
  },
  "language_info": {
   "codemirror_mode": {
    "name": "ipython",
    "version": 3
   },
   "file_extension": ".py",
   "mimetype": "text/x-python",
   "name": "python",
   "nbconvert_exporter": "python",
   "pygments_lexer": "ipython3",
   "version": "3.7.3"
  }
 },
 "nbformat": 4,
 "nbformat_minor": 2
}
